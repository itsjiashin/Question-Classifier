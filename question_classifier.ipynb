{
 "cells": [
  {
   "cell_type": "markdown",
   "metadata": {},
   "source": [
    "# <span style=\"color:#0b486b\">  Student Information</span>\n",
    "***\n",
    "Surname: **Khor**  <br/>\n",
    "Firstname: **Jia Shin**    <br/>\n",
    "Student ID: **32356595**    <br/>\n",
    "Email: **jkho0037@student.monash.edu**    <br/>\n",
    "Your tutorial time: **Friday 12pm to 2pm**    <br/>\n",
    "***"
   ]
  },
  {
   "cell_type": "markdown",
   "metadata": {},
   "source": [
    "## Section 2: Coding Questions"
   ]
  },
  {
   "cell_type": "markdown",
   "metadata": {},
   "source": [
    "This section consists of coding questions. The total mark for this section is **85**. \n",
    "The task we are considering in this section is the text classification task. In this section, some code has been provided to help you get started. For each cell marked with **# Insert your code here**, these are placeholders where you **must** supply your own codes when instructed.\n",
    "This section consists of 5 parts:\n",
    "* Part 0: Downloading and preprocessing data. This part has been completed. No marks are allocated for this part.\n",
    "* Part 1: Coding assessment on using Word2Vect to transform texts to vectors (20 marks).\n",
    "* Part 2: Coding assessment on Text CNN for sequence modeling and neural embedding (10 marks).\n",
    "* Part 3: Coding assessment on RNNs for sequence modeling and neural embedding (32 marks).\n",
    "* Part 4: Coding assessment on Transformer for sequence modeling and neural embedding and the overall ranking (23 marks)."
   ]
  },
  {
   "cell_type": "markdown",
   "metadata": {},
   "source": [
    "## <span style=\"color:#0b486b\">Set random seeds</span>"
   ]
  },
  {
   "cell_type": "markdown",
   "metadata": {},
   "source": [
    "We start with importing tensorflow and numpy and setting random seeds for TF and numpy. You can use any seeds you prefer."
   ]
  },
  {
   "cell_type": "code",
   "execution_count": 1,
   "metadata": {},
   "outputs": [],
   "source": [
    "import numpy as np\n",
    "import tensorflow as tf\n",
    "\n",
    "tf.random.set_seed(6789)\n",
    "np.random.seed(6789)"
   ]
  },
  {
   "cell_type": "markdown",
   "metadata": {},
   "source": [
    "## <span style=\"color:#0b486b\">Part 0: Download and preprocess the data</span>\n",
    "\n",
    "<div style=\"text-align: right\"><span style=\"color:red; font-weight:bold\"><span></div>"
   ]
  },
  {
   "cell_type": "markdown",
   "metadata": {},
   "source": [
    "The dataset we use for this assignment is a question classification dataset for which the training set consists of $5,500$ questions belonging to 6 coarse question categories including:\n",
    "- abbreviation (ABBR), \n",
    "- entity (ENTY), \n",
    "- description (DESC), \n",
    "- human (HUM), \n",
    "- location (LOC) and \n",
    "- numeric (NUM).\n",
    "\n",
    "In this assignment, we will utilize a subset of this dataset, containing $2,000$ questions for training and validation. We will use 80% of those 2000 questions for trainning and the rest for validation.\n"
   ]
  },
  {
   "cell_type": "markdown",
   "metadata": {},
   "source": [
    "Preprocessing data is a crucial initial step in any machine learning or deep learning project. The *TextDataManager* class simplifies the process by providing functionalities to download and preprocess data specifically designed for the subsequent questions in this assignment. It is highly recommended to gain a comprehensive understanding of the class's functionality by **carefully reading** the content provided in the *TextDataManager.py* file before proceeding to answer the questions in Part 1."
   ]
  },
  {
   "cell_type": "code",
   "execution_count": 2,
   "metadata": {},
   "outputs": [
    {
     "name": "stdout",
     "output_type": "stream",
     "text": [
      "Loading data...\n",
      "Downloaded successfully train_2000.label\n",
      "\n",
      "Sample questions and corresponding labels... \n",
      "\n",
      "['manner how did serfdom develop in and then leave russia ?', 'cremat what films featured the character popeye doyle ?', \"manner how can i find a list of celebrities ' real names ?\", 'animal what fowl grabs the spotlight after the chinese year of the monkey ?', 'exp what is the full form of .com ?']\n",
      "['DESC', 'ENTY', 'DESC', 'ENTY', 'ABBR']\n"
     ]
    }
   ],
   "source": [
    "from TextDataManager import SimpleTextDataset as DataManager\n",
    "\n",
    "print('Loading data...')\n",
    "DataManager.maybe_download(\"data\", \"train_2000.label\", \"http://cogcomp.org/Data/QA/QC/\")\n",
    "\n",
    "dm = DataManager(maxlen=100)\n",
    "dm.read_data(\"data/\", [\"train_2000.label\"])"
   ]
  },
  {
   "cell_type": "code",
   "execution_count": 3,
   "metadata": {},
   "outputs": [],
   "source": [
    "dm.manipulate_data()\n",
    "dm.train_valid_split(train_ratio=0.8)"
   ]
  },
  {
   "cell_type": "code",
   "execution_count": 4,
   "metadata": {},
   "outputs": [
    {
     "name": "stdout",
     "output_type": "stream",
     "text": [
      "['manner how did serfdom develop in and then leave russia ?', 'cremat what films featured the character popeye doyle ?', \"manner how can i find a list of celebrities ' real names ?\", 'animal what fowl grabs the spotlight after the chinese year of the monkey ?', 'exp what is the full form of .com ?', 'ind what contemptible scoundrel stole the cork from my lunch ?', \"gr what team did baseball 's st. louis browns become ?\", 'title what is the oldest profession ?', 'def what are liver enzymes ?', 'ind name the scar-faced bounty hunter of the old west .', 'date when was ozzy osbourne born ?', 'reason why do heavier objects travel downhill faster ?', 'ind who was the pride of the yankees ?', 'ind who killed gandhi ?', 'event what is considered the costliest disaster the insurance industry has ever faced ?', 'state what sprawling u.s. state boasts the most airports ?', 'desc what did the only repealed amendment to the u.s. constitution deal with ?', 'count how many jews were executed in concentration camps during wwii ?', \"def what is `` nine inch nails '' ?\", 'def what is an annotated bibliography ?', 'date what is the date of boxing day ?', 'other what articles of clothing are tokens in monopoly ?', 'ind name 11 famous martyrs .', \"desc what 's the olympic motto ?\", \"desc what is the origin of the name ` scarlett ' ?\", \"letter what 's the second-most-used vowel in english ?\", 'ind who was the inventor of silly putty ?', 'other what is the highest waterfall in the united states ?', 'other name a golf course in myrtle beach .', 'state which two states enclose chesapeake bay ?', 'exp what does the abbreviation aids stand for ?', 'other what does a spermologer collect ?', 'count how many points make up a perfect fivepin bowling score ?', \"gr which company that manufactures video-game hardware sells the `` super system '' ?\", 'count how many community chest cards are there in monopoly ?', 'desc what do mormons believe ?', 'date when did the neanderthal man live ?', 'religion in what religion was isis the nature goddess ?', \"other where do the adventures of `` the swiss family robinson '' take place ?\", 'animal what relative of the racoon is sometimes known as the cat-bear ?', 'manner how can i register my website in yahoo for free ?', 'other what was cash-conscious colonel edwin l. drake the first to drill ?', 'count how many people in the world speak french ?', 'count how many inches over six feet is the venus de milo ?', 'manner how do they find or choose witnesses to an execution ?', 'ind what 1920s cowboy star rode tony the wonder horse ?', 'food what cocktail inspired john doxat to write the book stirred-not shaken ?', 'gr what isps exist in the caribbean ?', 'manner how do you ask a total stranger out on a date ?', 'other what weapon is the mythological character apollo most proficient with ?', 'country what country do the galapagos islands belong to ?', 'def what is ethology ?', 'ind who was the prophet of the muslim people ?', \"desc where did the term `` 86ed '' come from ?\", \"ind who is snoopy 's arch-enemy ?\", 'def what is the nature of learning ?', \"color what 's the only color johnny cash wears on stage ?\", \"termeq what 's the term for a young fox ?\", 'state what u.s. state lived under six flags ?', 'def what is the kashmir issue ?', 'other where is the loop ?', \"def what does `` extended definition '' mean and how would one write a paper on it ?\", \"country what country 's capital is tirana ?\", 'def what is titanium ?', 'ind who do herb and tootsie live next door to ?', 'city which city has the oldest relationship as a sisterðcity with los angeles ?', 'def what is a caldera ?', 'reason why do people get calluses ?', 'other what are the names of the tourist attractions in reims ?', 'reason what are cushman and wakefield known for ?', 'other what body of water does the danube river flow into ?', 'ind who is the founder of scientology ?', 'other what does the six-footed musca domestica become when it enters a house ?', 'desc what is the history of skateboarding ?', 'ind who starred in singing in the rain and the singing nun ?', 'manner how do i make fuel bricks from recycled newspaper ?', 'ind what 19th-century painter died in the marquesas islands ?', 'body the corpus callosum is in what part of the body ?', 'manner how do i log on to home page at headquarters u.s. european command ?', 'country what country did the nazis occupy for 1 , cd nns in nnp nnp nnp .', \"other what is nebraska 's most valuable resource ?\", 'count how many species of the great white shark are there ?', 'desc what is the origin of head lice ?', 'state what is the nickname for the state of mississippi ?', 'animal what was the first domesticated bird ?', 'count how many villi are found in the small intestine ?', 'country what country did king wenceslas rule ?', 'dismed what is a fear of shadows ?', 'ind who were the five marx brothers ?', 'date in which year was new zealand excluded from the anzus alliance ?', 'date when did cnn begin broadcasting ?', 'reason what causes the body to shiver in cold temperatures ?', 'def what are bear and bull markets ?', 'cremat what j.r.r. tolkien book features bilbo baggins as the central character ?', \"def what is `` dew point '' ?\", 'def what is the meaning of jesus ?', \"gr what company 's logo is a `` w '' in a circle ?\", 'def what is the definition of a cascade ?', 'date when did rococo painting and architecture flourish ?', \"country what country 's national passenger rail system is called via ?\", 'ind who invented make-up ?', \"desc what is the origin of the word `` attic '' ?\", \"desc what did delilah do to samson 's hair ?\", 'animal what kind of animals were in the paleozoic era ?', 'ind which of the following was rhodes scholar ?', 'ind who comprised the now-defunct comic book team known as the champions ?', 'manner how do you make a paintball ?', 'state what u.s. state is fort knox in ?', 'animal what is a female rabbit called ?', 'mount where is the highest point in japan ?', 'desc where do chihuahuas come from ?', \"other where does barney rubble go to work after he drops fred off in the `` flintstones '' cartoon series ?\", \"other what are the world 's four oceans ?\", \"cremat what 's the only work by michelangelo that bears his signature ?\", 'animal what is the largest snake in the world ?', 'cremat in what medium is stuart hamblen considered to be the first singing cowboy ?', 'other where on the internet can i find a song lyrics database similar to the international lyrics server ?', 'money how much money does a back injury lawsuit get ?', \"termeq what 's the common name for acetylsalicylic acid ?\", \"def what does the georgetown `` hoya '' mean ?\", \"other where can i find a list of `` classic '' books 5th and 6th graders should read ?\", 'product which two products use a tiger as their symbol ?', 'manner how is the election of a new pope announced to the world ?', 'period how long does it take for your blood to make one complete trip through the body ?', 'manner how do chickens have baby chicks ?', 'desc what is the historical relationship of catholic church and bingo ?', 'manner how was the element calcium named ?', 'ind what crooner joined the andrews sisters for pistol packin mama ?', \"gr what piano company claims its product is the `` instrument of the immortals '' ?\", 'date when did the bounty mutiny take place ?', 'cremat what novel inspired the movie bladerunner ?', 'def what is a transistor ?', 'cremat what is a film starring jude law ?', 'animal what hollywood dog died in the arms of jean harlow in 1932 ?', \"substance what are the most common elements in the earth 's crust ?\", 'money how much would it cost to purchase a 2-foot-square party tent , with sides , ?', 'ind what actress has received the most oscar nominations ?', 'def what are equity securities ?', 'def what is gymnophobia ?', 'count how many years do fossils take to form ?', 'other where is the orinoco ?', \"animal what was the name of the `` little rascals '' dog ?\", \"city what city boasts penn 's landing , on the banks of the delaware river ?\", \"cremat what broadway musical was inspired by cervantes 's don quixote ?\", 'desc what is the origin of the word , jj .', 'count how many hostages were killed in the entebbe raid ?', 'manner how you can raise your iq ?', \"exp what does inri stand for when used on jesus ' cross ?\", 'gr who produces spumante ?', 'ind who earns their money the hard way ?', \"ind who founded the people 's temple commune ?\", 'ind what athlete makes the most money from sports merchandise sales ?', 'count how many bends are there in a standard paper clip ?', 'ind who discovered electricity ?', 'body what part of your body contains the corpus callosum ?', 'ind who was the first american in space ?', \"country what two south american countries do n't border brazil ?\", 'cremat what album put the beatles on the cover of time in 1967 ?', \"cremat what poem contains the line , `` grow old with me the best is yet to be '' .\", 'def what is a dental root canal ?', 'event what war did the wanna-go-home riots occur after ?', 'date what is the busiest air travel season ?', \"body what 's the colored part of the eye called ?\", 'def what are hook worms ?', 'other where is the rose bowl played ?', 'gr which japanese car maker had its biggest percentage of sale in the domestic market ?', 'ind who is the mayor of marbella ?', 'other what sun-blasted , 14-mile wide valley is just north of the mojave desert ?', 'date in what year did thatcher become prime minister ?', 'count how many months does it take the moon to revolve around the earth ?', 'other where are the 49 steps ?', 'date in what year was de gaulle elected president of france ?', \"ind who sings the themes for `` dawson 's creek '' and `` felicity '' ?\", \"ind who directed `` jaws '' ?\", 'cremat on what t.v. show could tom terrific be found ?', 'gr what indian tribe is f troop perpetually doing battle with ?', 'desc where did indian pudding come from ?', \"reason why do some clothing labels say `` use a nonchlorine bleach '' ?\", 'count how many colonies were involved in the american revolution ?', 'city what is the name of the city that maurizio pellegrin lives in ?', 'other where can i find pictorial directions on how to build a very simple treehouse ?', \"sport what game 's board shows the territories of irkutsk , yakutsk and kamchatka ?\", 'ind what is the name of the managing director of apricot computer ?', 'title what is the occupation of nicholas cage ?', 'reason why do horseshoes bring luck ?', 'def what is the 401 , k , plan ?', 'reason what causes pneumonia ?', 'date what are the three winter months in the southern hemisphere ?', 'def what does gringo mean ?', \"country what country contains africa 's northernmost point ?\", \"dismed what therapy attempts to elicit the `` primal scream '' ?\", 'other where is the kalahari desert ?', \"gr which ventura county police department seized the largest cocaine shipment in it 's history ?\", 'city what city is sometimes called gotham ?', 'body what dangles over the tongue from the palate ?', 'ind who created dennis the menace ?', 'ind what dummy received an honorary degree from northwestern university ?', 'date when was the first wall street journal published ?', 'country what countries have the largest areas of forest ?', 'manner how do i start a web based business ?', \"ind name alvin 's brothers\", \"def what is eagle 's syndrome styloid process ?\", 'manner how did jayne mansfield die ?', 'date when did the royal wedding of prince andrew and fergie take place ?', 'ind what actor said in a day at the races', \"ind what explorer was nicknamed iberia 's pilot ?\", 'date cnn began broadcasting in what year ?', 'termeq what is a ball that hits the foul pole called ?', 'reason what makes hamburgers taste like steakburgers ?', 'gr which company created the internet browser mosaic ?', 'event what are the rites accompanying the circumcision of a newly born-child in judaism called ?', \"other what was the education system in the 1960 's ?\", \"city what south american city has the world 's highest commercial landing field ?\", 'manner how can i find out which cities have cable-modem access ?', 'reason what is betsy ross famous for ?', 'count how many species of sharks are there ?', \"def what is `` snoogans '' ?\", 'count how many people are there in the world ?', 'plant what shrubs can be planted that will be safe from deer ?', \"gr what organization 's offices were broken into at watergate in 1972 ?\", 'desc what is the design of the ship titanic ?', 'exp what does s.o.s. stand for ?', 'techmeth name a technique widely used to detect birth defects ?', 'desc what is the daily requirement of folic acid for an expectant mother ?', \"def what is the `` 7-minute cigarette '' ?\", 'other what four forms does gold occur in ?', 'volsize what is the acreage of the chappellet vineyard ?', \"manner how do you correctly say the word ` qigong ' ?\", 'date when did beethoven die ?', 'money how much does a new railroad coal car cost ?', 'country what two european countries entered the war of american independence against the british ?', 'def what is the filmmakers collabrative ?', \"ind what russian composer 's prelude in c sharp minor brought him fame and fortune ?\", \"reason what caused harry houdini 's death ?\", 'ind who was the mother of the man who would not be king , the duke of windsor ?', 'count how many revolutions does a standard lp make in three minutes ?', 'mount what is the name of the tallest mountain in the world ?', 'other where can i find a review of nightmare on elm street in a film journal ?', \"techmeth what 's the slowest olympic swimming stroke ?\", 'ind what was the name of the first russian astronaut to do a spacewalk ?', 'dismed what disease is transmitted by the anopheles mosquito ?', \"food what rum is so `` mixable '' it is a one-brand bar ?\", 'count how many south american countries have the letter z in their names ?', 'def what is the contents of proposition 98 ?', 'other where was george washington born ?', 'count how many people on the ground were killed from the bombing of pan am flight 103 over lockerbie , scotland , december 21 , cd .', \"ind who wrote nn dt nnp nnp '' ?\", 'def what is paracetamol ?', \"desc what are the powers and weaknesses of green lantern 's ring ?\", \"animal which mosquito 's bite draws blood , dt nn cc dt nn .\", 'date when was the first steel mill in the united states built ?', 'ind what diminutive american female gymnast stole the show at the 1984 olympics ?', 'desc what is the origin of the name katie ?', 'gr what schools in the washington , dc nn nn vbp nn nn nn nn .', 'date when did the berlin wall go up ?', 'desc who is terrence malick ?', 'instru what instrument is ray charles best known for playing ?', \"def what 's the meaning of the latin battle cry\", 'other what is the mascot for notre dame university ?', 'other what las vegas hotel burned in november , 1980 , with the loss of 84 lives ?', 'date when did mount st. helen last have a significant eruption ?', 'exp cnn is the abbreviation for what ?', 'date when did world war i start ?', 'count how many feet are there in a fathom ?', 'def what is a canada two-penny black ?', 'city what european city do nicois live in ?', 'manner how can i find out what year a beanie baby was introduced ?', 'def what is the classic definition of tragic hero ?', \"other to what does microsoft 's windows 3 owe its success ?\", 'ind who was president of afghanistan in 1994 ?', 'techmeth what are other ways of getting stretch marks besides pregnancy , weight loss , and weight lifting ?', 'food what did brontosauruses eat ?', 'color what color bottles do good rhine wines come in ?', \"ind who was the lead actress in the movie ` sleepless in seattle ' ?\", 'ind who was the 16th president of the united states ?', 'ind who are the two sons of ozzie and harriet nelson ?', 'def what is molybdenum ?', 'date when is boxing day ?', 'other what is the lowest level of the american judiciary ?', 'date when was the battle of the somme fought ?', 'count how many people did randy craft kill ?', \"animal what 's the official animal of canada ?\", \"date when did spielberg direct `` jaws '' ?\", 'volsize what is the size of the largest akita ?', 'animal what animal has the biggest eyes ?', \"city what is california 's capital ?\", \"ind who was the author of the book about computer hackers called `` the cuckoo 's egg\", 'ind who was the founding member of the pink floyd band ?', 'country what european country is home to the beer-producing city of budweis ?', 'manner how do i find the balance of my social security account ?', \"desc what is the history of valentine 's day cards ?\", 'other where was christopher columbus born ?', 'termeq what do italians call florence ?', 'manner how do you get to the top of the eiffel tower ?', \"exp what does ` psi ' stand for ?\", 'other what sea did the romans call mare nostrum ?', \"termeq what 's the term for a bet before cards are dealt ?\", 'animal which came first , according to genesis 1', 'city what city did the flintstones live in ?', 'termeq what is latin for incompetent ?', 'dismed what chemicals are used in lethal injection ?', \"gr what toy company is the world 's no.1 maker of female apparel ?\", \"sport what board game does a `` wood-pusher '' play poorly ?\", 'ind which doonesbury character was likely to turn into a werewolf ?', 'abb what is the abbreviation for micro ?', 'other what are the 7 articles of the constitution ?', 'gr who has won the most super bowls ?', 'exp what does nasdaq stand for ?', 'exp what is bph ?', 'other what is the fastest commercial automobile that can be bought in the us ?', 'other what stadium do the miami dolphins play their home games in ?', \"ind who has the only speaking role in `` silent movie '' ?\", 'reason why is poop sometimes different colors ?', \"other what was einstein 's iq ?\", 'date what day was pearl harbor attacked in 1942 ?', \"ind what girl 's name is `` teddy '' an affectionate form of ?\", 'state what state is john f. kennedy buried in ?', 'techmeth what is the best way to remove wallpaper ?', 'state what u.s. state has an element named for it ?', 'gr what company tabulates the ballots in voting for the academy awards ?', 'manner how did the tradition of best man start ?', 'count how many years ago did the ship titanic sink ?', 'other what is the deepest area of the arctic ocean ?', \"color what are halloween 's colors ?\", 'manner how is silk screening done ?', 'other what is the latitude and longitude of el paso , texas ?', 'ind who made a boat out of gopher wood ?', \"other where can i find a `` fifth element '' screensaver ?\", 'ind which bloom county resident wreaks havoc with a computer ?', 'manner how do you match a name to a social security number ?', 'manner how does a rainbow form ?', 'other what is the normal resting heart rate of a healthy adult ?', 'other what is the population of ohio ?', 'count how many calories are there in a big mac ?', 'def hazmat stands for what ?', \"animal what creature scares people in the film `` jaws '' ?\", 'ind what part did john peter zenger play in the deveopment of the newspaper in america ?', 'ind who followed caesar ?', 'substance what are the four elements ?', 'ind who was the first woman golfer to earn a million ?', \"other what 's the tallest piece on a chessboard ?\", \"other what is answers.com 's address ?\", 'other where can i buy movies on videotape online ?', 'ind who does the advertizing for frito-lay ?', 'gr who is the leading competitor of trans union company ?', 'product what product did robert conrad dare people to knock off his shoulder ?', 'ind who invented the radio ?', \"count what 's the american dollar equivalent for 8 pounds in the u.k. ?\", 'techmeth what are the different approaches of systems analysis ?', 'manner how do doctors diagnose bone cancer ?', 'ind who is the man behind the pig-the man who pulls the strings and speaks for miss piggy ?', 'speed what is the speed of the mississippi river ?', 'other what are the developmental stages of a swimmer ?', 'ind what actor first portrayed james bond ?', 'other what ocean is the largest in the world ?', 'ind who was the first american poet to win the nobel prize for literature , in 1948 ?', 'date what year did jack nicklaus join the professional golfers association tour ?', 'count how many sonnets did shakespeare write ?', 'reason what causes the redness in your cheeks when you blush ?', 'ind who won the nobel peace prize in 1991 ?', 'gr who are the challengers of the unknown ?', 'def define the pheonix club ?', 'city which city did christian crusaders fight to recapture from the muslims ?', \"def what does it mean `` rupee depreciates '' ?\", \"other what gaming devices were dubbed `` mississippi marbles '' and `` memphis dominoes '' ?\", 'ind who was the first coach of the cleveland browns ?', 'manner how successful is arometherapy ?', 'event what jewish holiday saw the start of the 1973 mideast war ?', 'manner how does a copier work ?', 'speed what is the speed of the mississippi river ?', 'ind who said of super bowl iii in 1969', \"animal what is dudley do-right 's horse 's name ?\", 'ind who declared', 'other where does chocolate come from ?', 'cremat what tv game show once saw a contestant admit to picking his toes in the shower ?', 'ind what soviet leader owned a rolls-royce ?', 'other where can i find a case on individuals with disabilities education act of 1991 ?', 'event what war did florence nightingale tend the troops in ?', \"ind who wrote the song , `` stardust '' ?\", \"count how many beatles ' records went #1 ?\", 'ind who is the only prime minister of canada to serve 22 years but not necessarily consecutively ?', \"abb what is the abbreviation of the company name ` general motors ' ?\", 'mount what mountains lie between the arkansas and missouri rivers ?', 'ind who received the will rogers award in 1989 ?', 'reason what is the function of ram ?', \"other what 's the closest g2 spectrum yellow dwarf to earth ?\", 'count how many equal angles are there in an isosceles triangle ?', 'dismed what is the fear of cockroaches called ?', \"cremat what cbs soap opera was interrupted by the bulletin of john f. kennedy 's assassination ?\", 'desc what is the use of a 24-hour clock instead of a 12-hour clock ?', 'ind what was the name of the lawyer who represented randy craft ?', 'ind what united states president had dreamed that he was assassinated ?', 'cremat what film did lee marvin win the 1965 best actor oscar for ?', 'other where is basque country located ?', \"product what product does `` mrs. olsen '' promote ?\", 'date what time of day did emperor hirohito die ?', 'def what is dry ice ?', \"other what 's the most powerful card in euchre ?\", \"def what does `` intractable plantar keratoma '' mean ?\", 'count how many years did it take james joyce to write ulysses ?', 'food what crop failure caused the irish famine ?', 'city what south korean city is served by kimpo international airport ?', \"count how many types of dogs ' tails are there - three\", 'cremat what is the longest-running television series ?', 'animal what predators exist on antarctica ?', 'desc what is the difference between a generator and an alternator ?', 'manner how is energy created ?', \"food what beer advertised that it had `` three rings '' ?\", 'other what is the quantity of american soldiers still unaccounted for from the vietnam war ?', 'techmeth what golfing accessory was patented by george grant on december 12', 'other what are the different types of plastic ?', \"manner how is it correct to say ` qigong ' ?\", 'mount what was the highest mountain on earth before mount everest was discovered ?', 'other where was the ligurian republic , 1797-185 , ?', \"country what country 's people are the top television watchers ?\", \"date when was the women 's suffrage amendment ratified ?\", 'gr what polynesian people inhabit new zealand ?', 'cremat what movie tour of the roman empire features the admonition', 'city what nevada center has been dubbed the biggest little city in the world ?', 'ind what president lived at 219 north delaware street , independence , missouri ?', 'reason give a reason for american indians oftentimes dropping out of school .', 'other where must a soccer goalie stand to be permitted to handle the ball ?', 'desc what is the difference between classical conditioning and operant conditioning ?', 'state in what u.s. state was the first woman governor elected ?', 'desc what are some interesting facts and information about dogsledding ?', 'date what year did hitler die ?', 'ind what famous model was married to billy joel ?', 'animal what kind of animal is babar ?', 'reason what is jane goodall known for ?', 'other what killed bob marley ?', \"money how much money are dumbo 's ears insured for ?\", \"ind who danced into stardom with fred astaire in 1941 's you 'll never get rich ?\", 'desc who is stein eriksen ?', 'def what does the name billie mean ?', 'ind who is the fastest swimmer in the world ?', 'mount what is the highest peak in africa ?', 'other where is procter & gamble headquartered in the u.s. ?', 'other what desert has been called the garden of allah ?', 'other what do bicornate animals have two of ?', \"reason what function does a community 's water tower serve ?\", 'dismed what is a fear of weakness ?', 'count how many miles is it to ohio from north carolina ?', 'count how much snow equals an inch of rain ?', 'exp what does g.m.t. stand for ?', 'def what does inuit and eskimo mean ?', 'cremat what song served as the closing theme of the johnny cash show ?', 'sport what field sport did dentist william beers promote and write a standard book of rules for ?', 'manner how do i tie dye clothes ?', 'date when does the average teenager first have intercourse ?', \"reason why doesn 't www.answers.com have any answers to my questions ?\", \"ind what actor 's autobiography is titled all my yesterdays ?\", 'ind what russian master spy lived in the u.s. under the name emil goldfus ?', \"other where 's the 19th hole on a golf course ?\", \"reason what 's nature 's purpose for tornadoes ?\", \"ind who played the original charlie 's angels ?\", \"other where can i find a person 's address from a telephone number ?\", 'word what english word comes from the old french covrefeu , meaning cover fire ?', \"instru what musical instrument did prewitt play in james jones 's from here to eternity ?\", 'other where did sarge steel get his metal hand ?', 'reason what makes popcorn pop ?', 'ind who wrote the night of the iguana ?', 'body where does your hair grow the fastest ?', 'country what country did king gustav v reign over from 197 to 195 ?', 'ind who painted mother and child ?', 'speed what is the speed of the mississippi river ?', 'other in what area of the world was the six day war fought ?', 'other what is the brightest star visible from earth ?', \"cremat what film marked robert redford 's directorial debut ?\", \"ind what was mao 's second name ?\", 'cremat what film or films has jude law appeared in ?', 'other where do hyenas live ?', \"desc who is the `` queen mother '' ?\", \"lang what 's the most commonly-spoken language in belgium ?\", 'ind who has more dna - a man or a woman ?', 'def what are maid-rites ?', \"cremat what children 's tale contains the line\", 'gr what level of government or governmental agency is responsible for dealing with racism ?', 'count how many referees work a soccer game ?', 'food what cocktail do you concoct with whisky and sweet vermouth ?', \"termeq how do you say `` fresh '' in spanish ?\", 'desc what do bee hives do in cranberry bogs ?', 'reason what caused the lynmouth floods ?', 'date when is the tulip festival in michigan ?', 'ind who came up with the name , el nino ?', 'cremat what movie did madilyn kahn star in with gene wilder ?', 'other what type of bridge is the golden gate bridge ?', \"ind what dictator has the nickname `` el maximo '' ?\", \"gr what stereo manufacturer is `` slightly ahead of its time '' ?\", 'city what u.s. city is the queen of the pacific ?', 'ind what tv sitcom character had the maiden name ethel potter ?', 'food what was the first lifesaver flavor ?', 'ind who kept the most famous diary in the english language ?', 'other where can i find out the top 1 singles ?', 'count how many degrees cooler is the inside of a cucumber than the air outside ?', 'ind what spanish artist painted crucifixion ?', 'cremat what is the jewish bible called ?', 'reason why is the grass green ?', 'def what is a firewall ?', 'ind what spy novelist served as moscow correspondent for reuter and the times of london ?', \"gr which oil company almost picked a word that meant `` stalled car '' in japanese as its new international name ?\", \"period how long does it take for spider-man 's web to evaporate ?\", \"ind who was randy steven craft 's lawyer ?\", 'other what was known as the spice island ?', 'ind who was the first host of person to person ?', 'ind name the ranger who was always after yogi bear .', 'other what deck of cards includes the wheel of fortune , the lovers , and death ?', 'other what does the statue of liberty wear on her feet ?', 'ind who is the superstar in rent-a-cars ?', 'city mccarren airport is located in what city ?', 'other what household facility contains a float ball , ballcock , and overflow tube ?', \"animal what was the name of betty boop 's dog ?\", \"perc what fraction of a beaver 's life is spent swimming ?\", 'substance what was the bridge of san luis rey made of ?', 'desc what do economists do ?', 'country what country has the largest sheep population ?', 'desc what do i need to do to take my dog with me to live in dominica , west indies for a year ?', \"country what country is the world 's largest importer of cognac ?\", 'count how many years is johnnie walker black label aged ?', 'exp what does sids stand for ?', \"other what is grenada 's main commodity export ?\", 'money how much would a black-and-white 1-cent stamp be worth , thomas jefferson on it , ?', 'reason what makes a clitoris sensitive ?', 'country what country has the most time zones , with 11 ?', \"other what `` magic '' does mandrake employ ?\", 'ind who is the president of stanford university ?', 'ind whose first presidential order was', 'other what was introduced commercially by bayer a.g. of leverkusen , in 1899 ?', 'city what city is logan airport in ?', 'def what is a nanometer ?', 'count how many innings are there in a regulation softball game ?', 'date when did cnn go on the air ?', 'city what is the largest city on the great lakes ?', 'code what is the telephone number for the university of kentucky ?', 'ind who invented baseball ?', 'count how many wives did brigham young have ?', 'product what product on the market is good for hiding facial scars ?', 'dist how long is the coney island boardwalk ?', 'city what city gained renown for its pea-soup fogs ?', \"def what does `` janelle '' mean ?\", \"manner how do i get another city 's newspaper ?\", 'cremat name a movie about the sioux indians starring kevin costner .', 'ind who was shot in the back during a poker game in deadwood , the dakota territory ?', 'desc what are the distinct physical characterstics of the arabian horse ?', 'dismed what is a fear of thunder ?', 'animal what animal has killed the most people ?', 'count how many colleges are in wyoming ?', \"city what russian seaport has a name meaning `` lord of the east '' ?\", 'other where can stocks be traded on-line ?', 'date when was the battle of hastings ?', 'other what kind of file has the extension .dbf ?', 'date when did muhammad live ?', 'termeq what then-derogatory term was applied to the painters monet , sisley , pissarro , renoir and degas ?', 'def what is a wop ?', 'desc where do rocks come from ?', 'manner how do i stop background noise in a car stereo ?', 'mount where do people mountain climb in nepal ?', 'gr what is the best college in the country ?', 'def what is viscosity ?', 'cremat what was the name of the sitcom that alyssa milano starred in with tony danza ?', 'country what are the nordic nations ?', 'other where on the internet can i get information about the fifth amendment on the american bill of rights ?', 'state what u.s. state borders illinois to the north ?', 'cremat name a film in which jude law acted .', 'temp what is the temperature for baking peachy oat muffins ?', 'dismed what is a fear of bees ?', 'cremat what vladimir nabokov novel features professor humbert in love with a 12-year-old girl ?', 'def what is a green bog ?', 'other where did the myth of santa claus originate ?', 'other what does a chairbound basophobic fear ?', 'city what city is served by logan international airport ?', \"ind what wrestling star became `` the incredible hulk '' ?\", 'other what attracts tourists to reims ?', 'sport what game do steve mcqueen and edward g. robinson play in the cincinnati kid ?', 'other what fastener did whitcomb judson patent in 1893 ?', \"def what 's an auberge in france ?\", 'ind who was the star of the 1965 broadway hit golden boy ?', 'other where is procter & gamble based in the u.s. ?', 'gr what army was founded by william booth and his wife catherine ?', 'substance what does ribavirin consist of ?', \"food name the soft drink that is `` number one in the sun . ''\", 'other what is the web address of the list of e-mail addresses of members of the house of representatives ?', 'ind what was her real name ?', 'reason why are the ears your center of balance ?', 'ind who invented the toothbrush ?', 'cremat what was the name of that popular song the creeps sang ?', 'other where is the abominable snowman said to wander ?', 'dismed what is a fear of being alone ?', \"count how many dots make up the symbol for `` because '' ?\", 'food what do you get by adding lactobacillus bulgaricus to milk ?', 'exp when reading classified ads , what does eenty', 'count how many hearts does an octopus have ?', 'plant what plant has the largest seed ?', 'country what was the only country you were allowed to drive into israel from in 1979 ?', \"other what 's approaching when a cyclist shouts\", \"ind what baseball star turned down a $1 , 000-a-year contract because he felt he had n't earned it ?\", 'sport what kind of sport is often associated with hooligans ?', 'ind what video game hero do some of his fans call chomper ?', 'count how many holes are there in a tenpin bowling ball ?', 'word what is the longest word in the english language ?', 'other in what city or state do the most gay men live in ?', \"ind what tv comediennes 's characters include former movie star nora desmond , secretary mrs. wiggins and a housewife named eunice ?\", \"animal what is `` the bear of beers '' ?\", 'other name the operating system that runs on ibm-compatible machines .', \"def what does the name `` justin '' mean ?\", 'perc what percentage of the body is muscle ?', 'color what color of dry wine should be served with veal roasts and chops ?', 'substance what is a golf ball made of ?', 'def what is the amish religion ?', 'money what does an average daycare provider get paid in new england ?', 'gr what was the name of the 187s irish terrorist group in pennsylvania mining areas ?', 'ind who played the ringo kid in the 1939 film stagecoach ?', 'ind who died 1 feet from where john f. kennedy did ?', \"def what is the `` coppertop '' battery ?\", 'symbol what sign is the water carrier the zodiacal symbol for ?', 'animal what animals do you find in the stock market ?', 'def what is color ?', 'date when is the site www.questions.com going to open ?', 'cremat what did shostakovich write for rostropovich ?', 'ind what first name was nipsy russell given at birth ?', 'manner how can i get some free technical information on electric vehicle ?', 'ind who is the youngest of the beatles ?', 'manner how did shipyard inspector james j. kilroy designate equipment as being satisfactory ?', 'def what is a jellicle cat ?', 'other where can i find the best free evidence for debate about russia ?', 'other what is bill gates of microsoft e-mail address ?', 'substance what is the second hardest substance ?', 'reason why did several san diego schools stop serving apples to students ?', 'city what russian city boasts the hermitage museum ?', 'date when is bastille day ?', 'reason what makes a tornado turn ?', 'count how many shots can a stock m16 hold ?', 'color what two colors are you blind to if you suffer from protanopia ?', \"reason why do n't you guys have some sort of contest where you ask a question and whoever finds the answers wins a prize ?\", 'desc who is coronado ?', 'cremat what was the name of the movie that starred sharon stone and arnold schwarzenegger ?', 'def what is artificial intelligence ?', 'food what do flatfish eat ?', 'ind who was the first holy roman emperor ?', 'other what can i use to remove the stubborn gummed labels from some diskettes ?', 'date what day of the week sees the most fatal car accidents ?', 'desc what is the origin of the word , magic ?', 'sport what sport do you shag flies in ?', 'def what is white chocolate ?', 'other where is trinidad ?', 'gr name the organization that is presided by a security council .', \"ind who graced the airwaves with such pearls as `` do ya lo-o-ove me ? get naked , baby ! '' ?\", 'food what kind of wine is spumante ?', 'ind who portrayed portly criminologist carl hyatt on checkmate ?', 'termeq how do you say i love you in spanish ?', 'def what does the name gina mean ?', 'product what is the most advanced handheld calculator in the world ?', 'speed how fast is light ?', 'termeq what is the belt of low pressure around the equator called ?', 'def what are shooting stars ?', 'gr whom did the chicago bulls beat in the 1993 championship ?', 'date when was the first american encyclopedia published ?', \"other what 's the tallest building in new york city ?\", \"manner how is easter sunday 's date determined ?\", 'desc what is the motto for the state of maryland ?', 'desc who is desmond tutu ?', 'other where can i find information on the narragansett indians and other tribes in rhode island ?', 'animal name a tiger that is extinct .', 'count how many quarters equal a pound ?', \"cremat what kind of books does fodor 's publish ?\", \"ind what are the first names of rowan and martin , the stars of tv 's laugh-in ?\", 'ord what chapter of the bible has the most verses ?', 'ind who is the worst us president ever ?', 'ind what asian leader was known as the little brown saint ?', 'abb what is the abbreviated expression for the national bureau of investigation ?', 'speed how fast does the fastest car go ?', 'mount what is the highest mountain in the world ?', 'other what arch can you see from the place de la concorde ?', \"ind who sings the song `` drink to me with thine eyes '' by ben johnson ?\", 'period how long should a person wash their hands before they are clean ?', 'other which way do you turn your bic to increase the flame - clockwise or counterclockwise ?', 'country which is the wealthiest country in the world ?', 'manner how can i find a phone number of someone if i only know their email address ?', 'manner how can you contact play producers and promoters on-line ?', 'ind who is the monarch of the united kingdom ?', 'dismed what is a fear of passing high objects ?', 'desc what do players try to do when the music stops in a game of musical chairs ?', 'ind what are the top ten most common girl names in the us ?', 'reason why is black the color of mourning in the west ?', 'other what is the rarest coin ?', 'cremat what judith rossner novel was made into a film starring diane keaton ?', \"country which country is australia 's largest export market ?\", 'other where is the kentucky horse park located ?', 'dismed what is a fear of parasites ?', 'sport in what olympic games did nadia comaneci become popular ?', 'ind who does data collection in tourism ?', 'ind what was the name of the daughter of the virginia chief powhatan that married john rolfe ?', 'state what is the leading pecan and peanut growing state ?', 'desc what does a nihilist believe in ?', 'desc what did richard feynman say upon hearing he would receive the nobel prize in physics ?', 'sport in what sport are these following numbers relevant', 'ind who were the four famous founders of united artists ?', 'cremat what 2 statues did france give to other countries ?', 'def what are amphibians ?', 'count how many sperm cells are in an average ejaculation ?', \"product name the disposable razor that `` costs about 19 cents . ''\", 'dist how far do you have to run if you hit a home run ?', 'ind who was the only u.s. president to wear a nazi uniform ?', 'gr woodrow wilson served as president of what university ?', 'other where are the tropical rain forest distributions ?', \"ind what 's the nickname of oddsmaker jimmy snyder ?\", 'dismed what is the fear of being loved ?', 'other what was the number of people that randy steven craft was convicted of killing ?', \"title what was queen victoria 's title regarding india ?\", 'manner how is a hydrogen bomb different from a nuclear bomb ?', 'dist how far can a man travel in outer space ?', 'other where was lincoln assassinated ?', 'food what type of food makes you fat ?', 'dismed what is the name of the chronic neurological autoimmune disease which attacks the protein sheath that surrounds nerve cells causing a gradual loss of movement in the body ?', 'count what was the u.s. highway death toll in 1969 ?', 'animal what kind of animals are dorsets , lincolns , oxfords and southdowns ?', 'cremat what are the shortest and the longest songs ever produced ?', 'letter what letter is to the right of k on a typewriter keyboard ?', \"desc what is the origin and the meaning of the name , `` hajo ? ''\", 'word what is the plural of gulf ?', 'ind whose autobiography is titled yes i can ?', 'date what year did the united states pass the copyright law ?', 'perc what percentage of americans own their homes ?', \"date what 's the first day of the week ?\", 'city what city was president william mckinley shot in ?', \"city what city has the world 's longest subway system ?\", 'ind who claimed he killed 4 , 280 buffalo as food for the crew building the kansas pacific railway ?', 'def what is bombay duck ?', 'count how many degrees cooler is the inside of a cucumber than the air outside ?', \"ind what double talking `` professor '' holds a doctorate in nothing ?\", 'city what are the five most expensive cities in the world ?', 'ind what 19th-century writer had a country estate on the hudson dubbed sunnyside ?', 'count how many layers of yellow paint is a faber mongol pencil lucky enough to be sprayed with ?', 'def what is a virtual ip address ?', 'ind what was the name of the cook on rawhide ?', 'other what county is chicago in ?', 'dist what is the wingspan of a condor ?', 'desc what facial feature typically contains about 55 hairs ?', 'ind who was named admiral of the ocean seas and viceroy and governor general of all the islands he might discover , and also granted 10-?? of all profits of his voyage .', 'manner how can i transport files from one computer to another ?', \"termeq what 's the literary term for a play on words ?\", 'color what color were their horses ?', 'money what does an average daycare provider get paid in new england ?', \"ind what author landed a 468-pound marlin without harness in the early 193 's ?\", 'count how many americans fought for the british in the american revolution ?', 'other what kind of education do i need to become a flight attendant ?', 'lang what are the two languages of malta ?', 'count how many oceans are there and name them ?', 'desc what happened during the blackhawk indian war of 1832 ?', 'count how many pairs of legs does a lobster have ?', 'def what does the latin ante mortem mean ?', 'def what does the name shawn mean ?', 'other where is the danube ?', 'ind what lawyer won the largest divorce settlement , $85 million , in u.s. history for sheika dena al-farri ?', 'animal what do you call a group of geese ?', 'ind who delivered his last newscast on march 6 , 1981 ?', \"count how many times has `` louie , louie '' been recorded ?\", 'manner how is answers.com different from knowpost.com ?', 'other what is the longest place name in the u.s. ?', 'perc what percent liked thatcher after she had been in power for a decade ?', 'other where does buzz aldrin want to build a permanent , manned space station ?', \"cremat what was mel gibson 's first movie ?\", 'reason why was the l.a. office of shea and gould closed ?', 'manner how do i start a bank ?', 'manner how do ouija boards work ?', 'animal what horse did zorro ride ?', 'manner how do you get a broken cork out of a bottle ?', 'other where can i find correct tabs for third eye blind songs ?', 'manner how do you determine heating requirements for your home ?', \"ind what former major-league left-handed baseball pitcher was known as `` space man '' ?\", \"product which hair care product told us `` hate that gray , wash it away '' ?\", 'reason why did the chicken cross the road ?', \"ind what was michelangelo 's last name ?\", 'desc who is barbara jordan ?', 'ind who was the democratic nominee in the american presidential election ?', \"cremat what was connecticut 's first constitution called ?\", 'event what historical event happened in dogtown in 1899 ?', 'def what is being done about the millennium bug ?', 'reason what was the claim to fame of king camp gillette ?', 'dismed what is the most common kind of skin cancer in the u.s. ?', 'def what is olestra ?', 'country what asian country has a bill of rights for cows ?', 'count how many fingers are used to draw a bow ?', 'plant what are two plants that clothes are made from ?', 'date when was hurricane hugo ?', 'food what is the most heavily caffeinated soft drink ?', 'ind what president-to-be was the first member of congress to enlist following the attack on pearl harbor ?', \"money what was the price of varian associates ' vacuum products division ?\", \"date when was `` the great depression '' ?\", 'lang what language is mostly spoken in brazil ?', 'gr what college produced the most winning super bowl quarterbacks ?', \"manner how do you solve `` rubik 's cube '' ?\", 'def what is prepared mustard ?', 'ind what classical spanish writer warned', \"def what does `` antidisestablishmentarianism '' mean ?\", \"ind what actor married john f. kennedy 's sister ?\", 'dismed what does a topophobic actor suffer from ?', 'ind who fired maria ybarra from her position in san diego council ?', 'period the italian artist , maurizio pellegrin , is how old ?', 'other what type of hunting are retrievers used for ?', 'reason what is colin powell best known for ?', 'ind who was the first black golfer to tee off in the masters ?', \"city what city is the setting for puccini 's opera la boheme ?\", 'ind what u.s. president showed a fondness for munching on bee pollen bars ?', 'def what is measured in curies ?', 'ind whose cover is that of an employee of universal import and export ?', \"ind what former president 's daughter has written a book titled murder in the white house ?\", \"ind what fictional character is known as the `` melancholy dane '' ?\", 'product italy is the largest producer of what ?', 'ind what longtime game show host dropped dead while jogging in central park in 1984 ?', \"def what is the meaning of w.b. yeat 's poem , `` the three hermits ? ''\", \"ind who were the `` filthiest people alive ? ''\", \"dismed what infectious disease is the world 's deadliest ?\", 'def what is spumante ?', 'date in what year did ireland elect its first woman president ?', 'def what is an isthmus ?', 'animal what was the name of the orca that died of a fungal infection ?', 'other where is mozambique located ?', \"animal what is mississippi 's state animal ?\", \"desc what 's the origin of the word ` news ' ?\", 'other what did dan aykroyd and john belushi quit saturday night live to become ?', 'count how many months does a normal human pregnancy last ?', 'manner how do fuel injectors work ?', \"manner how can your school march in the macy 's thanksgiving parade ?\", \"ind what is the real name of disc jockey `` wolfman jack '' ?\", 'veh what italian liner was hijacked in 1985 ?', 'city what city houses the u.s. headquarters of procter and gamble ?', \"product what soap was touted as being `` for people who like people '' ?\", 'money how much was the minimum wage in 1991 ?', 'exp what does nafta stand for ?', 'ind who invented silly putty ?', 'gr what new middle school was built in philadelphia , pennsylvania last year ?', 'ind who patented the first phonograph ?', 'techmeth what are some tips for building a fire in a fireplace ?', 'food what do manatees eat ?', 'termeq how do you say 2 in latin ?', 'cremat what were popular songs and types of songs in the 1920s ?', 'count how many vietnamese were there in the soviet union ?', \"other what is november 's birthstone ?\", 'def what is a certified nurse midwife ?', 'count on average , how many miles are there to the moon ?', 'ind who created private detective philip marlowe ?', 'cremat what boris pasternak book sold 5 , 0 copies to become the fiction best-seller of 1958 ?', \"desc what is the origin of the expression `` tout de suite '' ?\", 'word what is the longest english word ?', 'reason what is the purpose of a car bra ?', 'reason what is d.b. cooper known for ?', 'desc who is colin powell ?', 'animal what species is a colt ?', 'exp what is the full name of the plo ?', 'country what is the smallest country in africa ?', \"ind who coined the term nn cyberspace `` in his novel nn neuromancer '' ?\", 'event what age followed the bronze age ?', 'title what is her profession ?', 'ind what is the full name of the man who invented the multicolored game cube that has 42.3 quintillion potential combinations ?', 'exp what does the word laser mean ?', \"def what does the name `` anthony '' mean ?\", \"ind who was lauren bacall 's first husband ?\", 'def what is a rhomboideus minor ?', 'count how many hands does bjorn borg use when hitting his forehand ?', 'count how many people died on d-day ?', 'ind what u.s. congressman said', 'ind who created the character of scrooge ?', 'other what is the student population at the university of massachusetts in amherst ?', 'other where is windsor castle ?', 'date when did the dow first reach ?', 'reason why were people recruited for the vietnam war ?', 'gr what party was winston churchill a member of ?', \"gr what american league baseball team 's worst finish between 1926 and 1964 was fourth ?\", 'other where can i find the names of all the 15 pokemon ?', 'state what state does martha stewart live in ?', 'animal which killer whale died at sea world of a fungal infection ?', 'country what are the benelux countries ?', \"other where 's the petrified forest ?\", 'lang what is a language spoken by the sioux ?', 'other where is tornado alley ?', \"ind who was the author of `` john brown 's body '' ?\", 'ind what american poet wrote', 'state what state in the u.s. has the most blacks ?', 'reason why are electric cars less efficient in the northeast than in california ?', 'title what was the occupation of mandy rice-davies ?', 'city what is the city in which maurizio pellegrin lives called ?', 'ind who painted the sistine chapel ?', 'ind name the various costumed personas of dr. henry pym .', \"animal what breed of dog was the `` little rascals '' dog ?\", 'desc what are the living conditions in cuba ?', 'color what color are school buses ?', 'other what is the oldest website on the internet ?', 'event what events happened january 26 , 1978 ?', 'ind what explorers followed columbus to the americas ?', \"ind who is actress goldie hawn 's current actor boyfriend ?\", 'ind who banned peter rose from baseball for betting on games ?', 'def what are the seven virtues ?', \"termeq what other name were the `` little rascals '' known as ?\", 'date when was the san francisco fire ?', 'dismed what is a fear of food ?', 'count how many casinos are in atlantic city , nj ?', 'date what year did the vietnam war end ?', \"ind what are the names of richard nixon 's two daughters ?\", \"word what 's the word for broken glass or sharp rocks embedded in cement on top of a wall ?\", 'count what is the chromosome number of an elephant ?', 'gr what organization was founded by the rev. jerry falwell ?', \"other what 's the longest river in the world ?\", 'food which soft drink does madonna advertise for ?', 'gr what company is being bought by yahoo and how much is the deal worth ?', \"date when was berlin 's brandenburg gate erected ?\", 'count how many double-word-score spaces are there on a scrabble crossword game board ?', 'date what year did germany sign its nonaggression pact with the soviet union ?', 'mount what mountain range is traversed by the highest railroad in the world ?', \"reason why were the american soldiers in wwi called `` doughboys ''\", 'ind who was nicknamed the little corporal ?', 'count how many cds has garth brooks sold ?', 'veh name the vessel used by the atari force in the dc comics .', 'other where are the leading medical groups specializing in lung diseases ?', 'manner how can i find online spelling , and punctuation drills for my 6th grader ?', \"other what 's the sacred river of india ?\", \"country what is stefan edberg 's native country ?\", 'body what is the only gland in humans that can regenerate itself ?', 'count how many gutenberg bibles are there ?', 'country name the largest country in south america .', 'event what astronomical phenomenon takes place in jan. 1999 ?', 'desc what information can you get me on fairground park in st. louis', \"ind what was american folk hero john chapman 's nickname ?\", 'desc what is the difference between a median and a mean ?', 'cremat what was the top box office movie in april 1998 ?', 'reason what makes thunder ?', \"ind what author did photographer yousuf karsh call `` the shiest man i ever met '' ?\", 'other which is the largest clock , diameter wise , in europe ?', 'plant what plant is rum made from ?', 'country what country are godiva chocolates from ?', 'ind name the poet of the poem which begins', 'food which condiment was once sold as a patent medicine ?', 'state what u.s. state records the least rainfall ?', 'reason why did the world enter a global depression in 1929 ?', 'def what was archy , and mehitabel ?', \"city what texas city got its name from the spanish for `` yellow '' ?\", 'substance what are the chemicals used in glowsticks ?', 'country what country did the nile river originate in ?', 'color what color are tennis balls ?', 'ind what barroom judge called himself the law west of the pecos ?', 'desc what excuse did the nato people give for hitting the chinese embassy ?', 'ind who was president of costa rica in 1994 ?', 'sport what sports event is meyer wolfsheim supposed to have fixed in the great gatsby ?', 'country what country has the best defensive position in the board game diplomacy ?', 'country what two countries share the khyber pass ?', 'ind who was chairman of the senate select committee that tried to get to the bottom of watergate ?', 'desc what is the origin of the surname of braun ?', 'sport what card game has variations called canfield , klondike and spider ?', 'def what is australia day ?', \"animal what mammal of north america is the world 's longest-lived for its size ?\", 'def what was the chivington massacre ?', \"ind what actor starred in 1980 's blue lagoon , 1982 's the pirate movie and 1983 's a night in heaven ?\", 'count how many home runs did lou gehrig have during his career ?', 'city in what city is the headquarters of sinn fein ?', 'other where can i find information on george bush ?', 'ind who is the voice of miss piggy ?', 'termeq what is the dialogue circle in cartoons called ?', 'def what does the word camaro mean , from the gm car the camaro ?', 'ind who replaced bert parks as the host of the miss america pageant ?', \"count how many boys play the game in winslow homer 's 1872 painting snap the whip ?\", 'def what is the aim-54c phoenix ?', 'date when are sheep shorn ?', 'sport what sport is chris jogis a top player of ?', \"other what 's the second-largest island in the world ?\", 'def what is the definition of low island ?', 'date what century does captain video live in ?', 'other what types of water pollution are there ?', 'count how many astronauts manned each project mercury flight ?', 'food what soft drink would provide me with the biggest intake of caffeine ?', \"other what 's the name of a golf course in myrtle beach ?\", 'event what are some of the significant historical events of the 1990s ?', 'cremat name the only extant trilogy of classical greek plays .', 'other where is logan airport ?', 'desc what is the difference between neoclassical art and romanticism art ?', 'ind who was the first person inducted into the u.s. swimming hall of fame ?', 'ind what golfer has been called ohio fats and blobbo ?', 'ind who murdered leno and rosemary labianca on august 1', 'money what is the average cost for four years of medical school ?', 'other what does god create in the first sentence of the bible ?', 'ind which of the following men was not married to rita hayworth ?', 'money what is the current ticket fare from from cairo to barbados ?', 'exp what does nn o `` mean when used as a prefix in irish surnames ?', 'manner how do you find oxidation numbers ?', 'state what is the state nickname of mississippi ?', 'reason what is black hills , south dakota most famous for ?', 'cremat what 1966 boob tube bomb took astronauts back to prehistoric times ?', 'count how many students attend the university of massachusetts ?', \"ind who said , `` i shall return . '' during world war two ?\", 'event what holidays are celebrated in ireland ?', 'ind who portrayed etta place , companion to butch cassidey and the sundance kid ?', 'def what are the greek numerals ?', \"other what 's the name of the temple that is located near the capital city of laos ?\", 'dismed what is a fear of sleep ?', 'sport what auto race was wilbur reed the first to win three times ?', 'animal what are the most common breeding birds in the u.s. ?', \"event what was organized as a confederate veterans ' social club in pulaski , in tennessee , in 1866 ?\", 'manner how do you look up criminal records on the internet ?', 'other where is the actress , marion davies , buried ?', 'desc what is an example of an actual case of using the fourteenth amendment ?', 'ind who was the charlie perfume woman ?', \"ind who portrayed `` rosanne rosanna-dana '' on the television show `` saturday night live '' ?\", 'ind what singer became despondent over the death of freddie prinze , quit show business , and then quit the business ?', 'date when did iraqi troops invade kuwait ?', 'termeq what was mark johnson referring to when he said', \"product what car was driven in the 199 release of `` smokey and the bandit '' ?\", 'gr what was the backup singing group for roy rogers ?', 'ind what famous singing cowboy owns the california angels baseball team ?', 'cremat what 1915 film was the first to gross $5 million ?', \"desc where did the term `` 86 '' come from ?\", 'reason what causes someone to be ticklish ?', 'perc what is the probability that at least 2 out of 25 people will have the same birthday ?', 'count how many canadians emmigrate each year ?', 'reason why did several san diego schools remove apples from students menus ?', 'instru what musical instrument did sherlock holmes play ?', \"ind who was gerald ford 's vice president ?\", \"def what is `` the washed vodka '' ?\", 'count how many different languages are spoken in europe ?', 'date what year was desmond mpilo tutu awarded the nobel peace prize ?', \"termeq what 's a `` drinker respirator '' better known as ?\", 'ind who invented batteries ?', 'reason why do recipe books recommend starting with cold water when you boil something ?', 'other where can i buy a good snowboard for less than $200 ?', 'title what title did suzette charles assume for two months in 1984 ?', 'ind what was the infamous pseudonym of peter sutcliffe ?', \"animal what is smokey the bear 's middle name ?\", \"title what is nicholas cage 's occupation ?\", 'cremat what british tv series featured emma peel ?', 'other what london street is the home of british journalism ?', 'event what tragedy befell the city of dogtown in 1899 ?', 'def what is the immaculate conception ?', 'veh what are the names of all the u.s. navy aircraft carriers ?', \"other what format was vhs 's main competition ?\", 'def what is candlemas day ?', \"city in what city is the famed st. mark 's square ?\", \"termeq what does the ouarterly review of doublespeak call an `` inoperative statement '' ?\", 'money how much did the minimum wage amount to in 1991 ?', 'other where is tufts university ?', 'def what is a pyrotechnic display ?', 'manner how do i find out about jobs ?', 'gr what japanese manufacturer is known for both its pianos and its motorcycles ?', 'other what is the chemical reactivity of argon ?', 'count how many engines does a boeing 737 have ?', \"desc what is the origin of the term `` the brooklyn side '' in bowling ?\", 'dismed what is a fear of being cold ?', \"dist how long was mao 's 1930s long march ?\", \"sport what net game sees its women 's world amateur champions receive the uber cup ?\", \"animal what four-legged creature did a cornell university study say would make man 's best companion in space ?\", 'weight what does a teaspoon of matter weigh in a black hole ?', 'other what did british companies stick 175 , 0 tons of tea into in 1982 ?', 'state what province is edmonton located in ?', 'manner how can i find out how much income tax is paid on social security income on the 1998 income tax ?', 'ind who did sonny liston succeed as world heavyweight boxing champion ?', \"animal what is california 's state bird ?\", \"date what is martin luther king jr. 's real birthday ?\", 'gr name the various super-teams to which the angel has belonged .', 'manner how does zatanna perform her magic in dc comics ?', \"veh what 's the name of jacques cousteau 's research ship ?\", 'ind what president dispatched a cruiser to carry charles lindbergh home after his epic flight ?', 'ind whose video is titled shape up with arnold ?', 'cremat in which kevin costner movie did sioux indians play a role ?', 'count how many james bond novels are there ?', \"manner how do you get dates with the `` hooters '' girls ?\", \"animal what bird can swim but can 't fly ?\", 'manner how can i get a comic character i made copyrighted and published ?', \"volsize how large is the arctic refuge to preserve unique wildlife and wilderness value on alaska 's north coast ?\", 'def what is plc ?', 'count how much electricity does the brain need to work ?', 'count how many acres in a mile ?', \"cremat what dickens novel has david carrying the message `` barkis is willin '' to peggy ?\", 'def what is a hyperlink ?', \"ind who 's the twin brother of the greek goddess artemis ?\", 'desc where did marijuana come from ?', 'money what is the per-capita income of colombia , south america , ?', 'cremat what novel has big brother watching ?', 'count how many grammys did michael jackson win in 1983 ?', 'def what does elysium mean ?', 'other what is the oldest website on the internet ?', 'def what is shalom ?', \"sport what was the favorite sport of tom wolfe 's the pump house gang ?\", \"substance what organic fuel do bog-dwellers use a `` slane '' to cut ?\", 'period what is the average age of a member of the team that worked on the manhatten project ?', 'country what country received all the nobel prizes awarded in 1976 ?', 'manner how do you get rid on woodpeckers ?', 'count how many syllables are there in a line of hendecasyllabic poetry ?', 'food what soft drink first appeared in the old corner drug store in waco , texas , in 1885 ?', \"other what is britain 's possession on the chinese mainland ?\", \"ind who was america 's first public enemy no. 1 ?\", 'count how many children under 18 are victims of some sort of physical abuse each year ?', 'desc what is the origin of thank you notes ?', 'other what did jimmy stewart invent ?', 'other what generation am i in ?', 'dismed what is a fear of hell ?', 'desc who is dear abby ?', 'ind who lives at 24 sussex drive , ottawa ?', 'substance what is jell-o made from ?', 'desc who was monet ?', 'state what are the only two states that incorporate the confederate battle flag in their flags ?', 'manner how do you make panoramic sugar eggs for easter - the ones with the scene inside ?', \"food what 's the southern dish made of pigs ' small intestines ?\", 'other where is guam ?', 'ind who was the famous door-to-door brush salesman ?', 'def what is the executor in a will ?', 'gr what inescapable purveyor of background music celebrated its 5th anniversary in july , 1984 ?', 'count how many people in america snore ?', 'ind who is always trying to get the rent from andy capp ?', 'food what soft drink is most heavily caffeinated ?', 'ind who did jackie kennedy commission to write the death of a president ?', 'dismed which drug is commonly used to treat aids ?', \"count how many stars are there on the soviet union 's flag ?\", 'desc what is the difference between microprocessors & microcontrollers ?', 'ind who sought to create the great society ?', 'other what are tourist attractions in reims ?', 'dist what are the lengths of pearl necklaces ?', 'ind who said', 'desc what is the proof that houseplants metabolize carcinogens ?', \"reason what prompted the co-pilot of the enola gay to enter only `` my god '' in his log ?\", 'period how long does it take the typical hen to lay 19 dozen eggs ?', 'city what colorado city owns its own glacier ?', \"desc what is the history of `` the toast '' ?\", 'event what was the name of the protestant revolt against the supremacy of the pope ?', 'def what is an arab strap ?', 'money how much does it cost , average or whatever is available , to produce and send junk mail catalogues in the us ? , dt cd nn nn ,', 'ind who is the current un secretary general ?', 'gr who provides telephone service in orange county , california ?', 'other where did guinea pigs originate ?', \"country what two countries ' coastlines border the bay of biscay ?\", 'reason why did egyptians shave their eyebrows ?', 'gr what organization did mr. waverly assign agents for ?', 'date when was the slinky invented ?', \"ind what are the characters ' names in the scooby-doo cartoon ?\", 'dismed what is a fear of cold ?', \"title what was eduard shevardnadze 's job in the soviet union ?\", 'reason what causes rust ?', 'ind which is the only dick tracy villain to appear three times ?', \"animal what was the monster in spielberg 's film `` jaws '' ?\", 'color what color is an arctic fox in winter ?', 'def what do the names neil , mary , and anthony mean ?', 'city what european capital celebrated its 2 , 000th anniversary in 1951 ?', \"reason why do people in the upper peninsula of michagin say `` eh ? '' ?\", 'plant what flower did vincent van gogh paint ?', 'country what country was the setting of you only live twice ?', \"perc what was thatcher 's approval rating after 10 years in power ?\", 'animal winnie the pooh is what kind of animal ?', \"desc what was the first funk 'n lata , brazilian group , success ?\", 'def what is a handheld pc ?', 'desc what did john hinckley do to impress jodie foster ?', \"title what is larry king 's job ?\", 'count how many calories are in a tomato ?', 'state in what state was the first co-educational college established', 'event what war saw a naval battle between the luxury liners cap trafalgar and the carmania ?', 'techmeth what is the treatment for depression ?', 'dismed what is a fear of slime ?', 'country what country in latin america is the largest one ?', 'other on which hawaiian island is pearl harbor ?', 'ind what feathered cartoon characters do yugoslavians know as vlaja , gaja , and raja ?', 'cremat what marx brothers movie centers on a stolen painting ?', \"desc what was unusual about alexandra 's appearance in josie and the pussycats ?\", \"desc what is the origin of the word `` mind '' ?\", 'date when was dick clark born ?', 'sport what game is fatal to anybody over 21 ?', 'other what is the death toll of people dying from tuberculosis ?', 'desc what happened to moon maiden ?', 'city what city is wiener schnitzel named for ?', 'def what are the urals ?', 'manner how can you stop the itch from poison ivy ?', 'other what desert has the highest sand dunes ?', 'country what two countries contain sierra nevada mountains ?', 'manner how do you tell your parents you are dating an older man ?', \"period how long was the tv mission of star trek 's enterprise to be ?\", 'code what phone number can i call to have a tree planted ?', \"date when did the `` star-spangled banner '' become the national anthem ?\", 'desc who was lacan ?', 'techmeth what are the four natural aids used in riding a horse ?', \"other what continent 's name appears on the upper left corner of a budweiser label ?\", 'ind who was the secretary of war in the civil war during the battle of gettysburg ?', 'ind who did bobby fischer beat to win the world chess championship ?', 'manner how do you exterminate bees that are in the walls of your home ? will bee eggs remain over winter ?', 'other where can i get information and statistics on countries and nations ?', 'lang name a gaelic language .', 'date what day is august 13 , 1971 ?', 'other where can i find a list of all the companies in america that offer a direct stock purchase plan ?', 'manner how do you send a movie transcript to hollywood so that it can be produced into a film ?', 'cremat what literary classic centers on the search for a treasure in gold worth 7 , 0 pounds ?', 'desc what is the origin of blue for boys and pink for girls ?', 'cremat what is the name of the michelangelo painting that shows two hands with fingers touching ?', 'volsize how big is a quart ?', 'def what is the hub of london ?', 'cremat jude law acted in which film ?', 'reason what causes panic attacks ?', 'def what was the filling in the first golf balls ?', 'dismed what drug did sigmund freud become fascinated with while experimenting with the treatment of neurasthenia ?', 'country what country was a terrible beauty to leon uris ?', 'def what is typhoid fever ?', 'other where can i buy a hat like the kind jay kay from jamiroquai wears ?', 'def what are the twin cities ?', \"cremat what is beethoven 's 9th symphony called ?\", 'ind name the lawyer for randy craft .', \"food which breakfast cereal brought you `` the best each morning '' ?\", 'exp what does ms. , miss , and mrs. stand for ?', 'other what is the homelite inc. home page ?', 'substance what explosive do you get by mixing charcoal , sulfur and saltpeter ?', 'other what mountainous region of the world is the lhasa apso dog native to ?', 'dismed what cancer is commonly associated with aids ?', 'period how long does it take light to reach the earth from the sun ?', 'ind who lives at 39 stone canyon way ?', 'count how many questions are on this thing ?', 'ind who played humpty dumpty in the 1933 film alice in wonderland ?', \"ind who is karenna gore , al gore 's oldest daughter , married to ?\", 'ind who played the title role in i was a teenage werewolf ?', 'reason why are there olives in martinis ?', 'date in what year did hitler gain power of germany ?', \"date what year did rossetti paint `` beata beatrix '' ?\", 'gr what record company produced the 1978 movie the wiz ?', 'other where can i find information about touring the philippines ?', 'other what did the gas house gang play ?', \"count how many square feet is bill gates ' home ?\", \"ind what is the name of actor rex harrison 's son , who starred in a modestly popular tv show during the late 1960's ?\", 'def what is the highest roman numeral ?', \"other what 's the most popular form of bridge ?\", 'ind who was the inventor of the stove ?', 'ind what comedian has a legendary reputation for stealing jokes ?', 'other where can i find information on the cyclone that hit new jersey on 8/28/1941 ?', 'date boxing day is celebrated on what date ?', 'cremat what are the first ten amendements passed ?', 'dismed what is another term for the painful wrist syndrome ?', \"desc what 's the difference between sleet and freezing rain ?\", 'manner how is the new ford econoline van f25 v1 engine ?', 'ind who was the king who was forced to agree to the magna carta ?', 'ind who was made the first honorary citizen of the u.s. ?', 'sport what game is garry kasparov really good at ?', 'other where was richard nixon when gerald ford became president ?', 'ord where does the u.s. rank among world countries in area ?', 'cremat what novel did ian fleming introduce james bond in ?', 'perc what was the target rate for m3 growth in 1992 ?', \"gr what baseball team was routinely called `` dem bums '' by its frustrated fans ?\", 'ind name of scholar on whose literal translations from the chinese and japanese ezra pound depended ?', 'date when did israel begin turning the gaza strip and jericho over to the plo ?', 'desc what are the major differences in the catholic and methodist religions ?', 'ind name the on stage character whose face was never seen .', 'count how much energy is released when oxygen and hydrogen mix ?', 'gr what is the best internet business to go into ?', 'def what does venus retrograde mean ?', \"ind who is known as `` the world 's oldest teenager '' ?\", 'other what are the largest breweries in the world ?', 'def what does las vegas mean ?', \"def what does the word `` meta '' mean ?\", 'other what keeps clouds in the air ?', \"termeq what 's the term for any four-sided figure ?\", 'instru ray charles plays which instrument ?', 'country what country and western singer is known as the silver fox ?', 'other what building appropriately enough is depicted on the back of the 1-dollar bill ?', 'def what is graduate school ?', 'desc what is the difference between new york-style and chicago-style pizza ?', 'ind what baseball team owner and sailor is known as the mouth of the south ?', 'sport what type of betting is used in horse racing ?', 'product what kind of hat does bat masterson wear ?', 'ind who was with patricia hearst the night she was kidnaped ?', \"ind what is the viking prince 's first name ?\", 'exp what does the abbreviation cwt. ?', 'other in what deodorant commercial did tenants have adjoining medicine cabinets ?', 'other where is rider college located ?', \"ind what boxer 's life story is titled raging bull ?\", 'reason for what reason did some san diego schools stop serving apples ?', \"ind who advised listeners to `` see the u.s.a. in your chevrolet '' ?\", 'other where was the first restaurant ?', 'other where can i find full written draft of ctbt ?', 'count how many horses died during the civil war ?', 'count how much waste does an average dairy cow produce in a day ?', 'ind what nobel laureate was expelled from the philippines before the conference on east timor ?', 'ind what woman has carried the most multiple births , twins , triplets , etc. , ?', 'count how many minutes were there on the original ge college bowl clock ?', 'period what is the average time it takes for a male to ejaculate ?', 'other what is website of the international court of justice ?', 'other where are 8 of the 10 highest mountains in the world ?', 'other where can i look at a perpetual calendar ?', 'count how many astronauts have been on the moon ?', 'date in what year did the bounty mutiny happen ?', \"substance what is the only substance that gives food its `` taste '' when eaten ?\", 'manner how do you reference a website ?', 'def what is pandoro ?', \"exp what do the letters zip stand for in the phrase `` zip code '' ?\", \"ind which bourbon king was restored to the french throne during napoleon 's abdication ?\", 'city what is one of the cities that the university of minnesota is located in ?', \"desc what are the words to `` my way '' written by paul anka ?\", 'manner how do i install a tile floor ?', 'techmeth what is the quickest and easiest way to get nail polish out of clothes ?', 'reason why was the zipper invented ?', \"other what 's the no. 1 killer in industrialized countries ?\", 'animal name four famous cartoon cats .', 'ind what daughter of henry viii and anne boleyn became queen of england ?', \"manner how did ` stat ' come to be used as an expression for quickly ?\", \"gr what 's the most common nickname of u.s. college football teams ?\", \"desc what 's the distinction of u.s. supreme court justice thurgood marshall ?\", 'other what is the most useful site on the internet ?', \"mount what is the world 's highest peak ?\", 'def what was a mae west on a world war ii battleship ?', 'def define cosmology .', \"ind what comedienne upstaged dwight d. eisenhower 's first inauguration by giving birth to her first child ?\", 'def what are amicable numbers ?', 'date when were the olympic games in which nadia comaneci became popular played ?', 'other where is hearst castle , built by publisher william randolph hearst ?', \"city what 's the largest u.s. city on the great lakes ?\", 'ind who sang about desmond and molly jones ?', 'cremat what magazine gives us the cream , not the skim ?', \"techmeth what does the technique called `` cold fusion '' produce ?\", 'ind what costume designer decided that michael jackson should only wear one glove ?', 'other what meter did shakespeare use in writing', 'count how many rows of sprocket holes does a roll of 35-millimeter film have ?', 'count what is the goat population of the world ?', \"gr what company was the original sponsor of tv 's superman ?\", 'termeq what term does a czech use to describe a pole ?', 'other what sea separates naples and algiers ?', 'count how many lawyers are there in the state of new jersey ?', 'substance what are the most common elements in seawater ?', \"desc describe the finnish music personality salonen 's appearance .\", \"desc what is the origin of the ethnic category `` caucasian '' ?\", 'def what is a stratocaster ?', 'other what kind of science is cosmology ?', \"ind name the blind sculptress in love with the fantastic four 's thing .\", \"substance what 's the second-lightest element ?\", \"termeq what do you call a `` twirl '' in ballet ?\", 'product what is the brand name of daminozide ?', 'termeq what is the former name of zimbabwe ?', 'ind what national basketball association superstar told his story in giant steps ?', 'animal what animals did the amazing three masquerade as ?', 'manner how did the bikini bathing suite get its name ?', 'date when did fraze get his first patent for the pull-tab can ?', 'count how many games are played in a five-team round-robin tournament ?', 'ind who developed the first polio vaccine ?', 'ind who made the first gas engine ?', 'country what country claimed rubens , van dyck and bruegel as citizens ?', 'event what civil war was fought between 1936 and 1939 ?', 'count how many questions do you have on your database ?', 'manner how do clouds form ?', 'other where can i find examples of legal cases about the individuals with disabilities education act ?', 'ind what character did tex avery first create upon arriving at mgm ?', 'date when was the triangle shirtwaist fire ?', 'ind what asian spiritual and political leader was married at the age of 13 ?', 'other where is ocho rios ?', 'def what is the half-life of p-32 ?', 'other what ocean does mauritania border ?', 'reason why do pressure cookers save time in the kitchen ?', 'reason why are there 12 people on a jury in criminal cases ?', 'desc what do christian scientists believe in ?', 'event what world war i battle saw 6 , 0 troops killed in one day ?', 'country what country is kosovo a part of ?', 'city tell me what city the kentucky horse park is near ?', 'product what computer operating system is on the most computers ?', \"other what is bill gross 's email address ?\", 'desc what is the economic impact of unemployment on the economy ?', 'exp what do the letters d.c. stand for in washington , d.c. ?', 'animal what animals can live the longest without food ?', 'ind what english queen had seventeen children ?', 'other what is the approximate population of las vegas , n.m ?', 'money how much does the president get paid ?', 'ind what two baseball players make up the battery ?', \"letter what 's the largest letter in salvador dali 's signature ?\", 'termeq what does an irate car owner call iron oxide ?', \"perc of children between the ages of two and eleven , what percentage watch `` the simpsons '' ?\", \"state what 's the northernmost u.s. state apart from alaska ?\", 'other name an art gallery in new york .', 'ind who sells viagra ?', \"instru what musical instrument did prewitt play in james jones 's from here to eternity ?\", 'def what is the home rule act ?', 'other what building are british monarchs crowned in ?', 'def what are bellworts ?', 'desc who was darius ?', \"cremat what movie told of anna anderson 's claim to be a russian czar 's daughter ?\", 'ind who did dita beard work for ?', 'animal what kind of creature is a coot ?', 'gr name the university of which woodrow wilson was president .', 'country what country was first to use the airplane as a weapon of war , against the turks in libya ?', 'gr what university was woodrow wilson president of ?', 'dismed what is a fear of disease ?', 'food what kind of meat is fray bentos synonymous with ?', 'other what did mr. magoo flog on tv for general electric ?', 'desc what are the words to the canadian national anthem ?', 'termeq what is the name of the jewish alphabet ?', \"ind who served as inspiration for the schoolteacher portrayed by robin williams in `` dead poets society '' ?\", \"code what is columbia tristar 's phone number ?\", 'title name the five positions who are in the line of succession to the presidency .', 'ind which one of the original seven mercury program astronauts did not fly on any of the mercury flights ?', 'ind who is the best known villain of the 165 gunpowder plot ?', 'city what is the capital of burkina faso ?', 'other what continent is bolivia on ?', 'reason why was muhammad ali stripped of his title and barred from boxing in 1967 ?', 'ind who killed more people , hitler or stalin ?', 'reason what caused shea & gould to close their l.a. office ?', \"animal what 's the only mammal that can 't jump ?\", 'state what u.s. state has the most blondes ?', \"event what war saw battles at parrot 's beak and black virgin ?\", 'count what was the u.s. highway death toll in 1969 ?', 'def what does the name kelly mean ?', 'def what is a phalanx ?', 'ind what mustachioed comedian portrayed frankie in north to alaska ?', 'money what does each of the utilities cost in monopoly ?', 'ind what actor and world war ii airman had a $5 , 0 bounty put on his head by hermann goering ?', 'exp what does e.g. stand for ?', 'dismed what is the name of the medical condition in which a baby is born without a brain ?', 'manner how do storms form ?', 'desc who is nicolo paganini ?', 'city what city is often called the insurance capital of the world ?', \"animal what are the three animals in sheila burnford 's the incredible journey ?\", \"ind who portrayed dracula in hammer studios ' films ?\", 'other name one of the seven wonders of the ancient world .', 'date when were fish first believed to be found on earth ?', \"ind what president 's favorite biblical quotation was\", 'count how many elevators do you ride to reach the top floor of the empire state building ?', 'gr name the food company that traveled to soviet georgia to film a series of ads .', 'country what country was sir edmund hillary born in ?', \"animal what 's an infant seal called ?\", 'desc what was the proper laugh-in respones to', 'city what city was john f. kennedy nominated for president in ?', 'period how long does a dog sleep ?', 'cremat what 1963 joseph l. mankiewicz film cost $28 million ?', 'gr what japanese electronics company was named for a coastal city northeast of tokyo ?', 'money what can you be fined for having a dog on a beach ?', 'other where did the battle of the bulge take place ?', 'count how much will the california be in the year 2000 ?', \"ind what mystery writer penned `` ...the glory that was greece , and the grandeur that was rome '' ?\", 'state what state full of milk and honey was the destination in the grapes of wrath ?', 'other what is the tallest building in japan ?', \"other where is sinn fein 's headquarters ?\", \"food name li 'l abner 's favorite indian drink .\", \"event what are some important events of the 1830 's ?\", 'date the iraqis launched their attack on kuwait on what day ?', 'letter what letter adorns the flag of rwanda ?', 'other what did 8 , cd nns vbp to vb nnp pos nn .', 'def what is god ?', \"country what country 's northernmost city is darwin ?\", 'other what sound does olympia , washington , overlook ?', 'cremat what tv show chronicled the lives of katy holstrum and congressman glen morley ?', 'city what kentucky city calls itself the horse center of america ?', 'count how many penny-farthings are there on a trivial pursuit game board ?', \"substance what 's the most abundant element in the sun ?\", 'country what european country boasts the city of furth , found where the rivers rednitz and pegnitz converge ?', 'state what u.s. state is dixville notch in ?', 'other where was the cisalpine republic , 1797-185 , ?', 'other what is the largest shopping mall in the world ?', \"ind what is the protagonist 's name in dostoevski 's `` the idiot '' ?\", 'other what penalty space lies between baltic avenue and reading railroad on a monopoly board ?', 'ind what presidential press secretary dismissed watergate as a third-rate burglary attempt ?', 'def what is a meerkat ?', 'desc who was jean nicolet ?', 'animal what kind of animal was winnie the pooh ?', 'ind which of these are authors ?', \"word what 's the international radio code word for the letter b ?\", 'ind who was the original humpty dumpty ?', 'def what is cache memory ?', 'termeq aspartame is also known as what ?', 'other where is the location of the orange bowl ?', \"date when is president nixon 's birthday ?\", \"desc what is the origin of the midwest slang , ` you 're darn tootin ' ?\", 'ind whose cupboard was bare ?', 'other what are the seven seas ?', 'exp what does ibm stand for ?', 'desc what is the difference between jazz and blues ?', 'def what is the c programming language ?', \"ind what 's the name of popeye 's adopted son ?\", 'ind who invented the vacuum cleaner ?', \"def what is a ` borrow pit ' ?\", 'ind what 2th-century fictional character attends pencey prep school ?', 'count how many people in the usa say their number one source of information is the newspaper ?', \"ind who does shakespeare 's antonio borrow 3 , 0 ducats from ?\", \"country which country is known as `` big bear '' ?\", \"food what `` melts in your mouth , not in your hands '' .\", \"count how many times a day should you take a prescription marked `` q.i.d . '' ?\", 'desc what is the origin of the atom ?', 'ind who is the voyager project manager ?', 'gr which radio stations air the jim bohannon radio talk show ?', 'ind what two commanders directed the forces in the battle of el alamein ?', \"ind name the creator of `` the muppets '' .\", 'manner how do i e-mail someone at aol.com from yahoo.com ?', \"ind who replies `` i know '' to princess leia 's confession `` i love you '' in the empire strikes back ?\", 'def what is the meaning of the name ella ?', \"other what 's the home of the rockettes ?\", 'other where can i find all the information i need to know about the english civil war , 1642-1649 , ?', 'gr what is the name of the firm that makes spumante ?', 'sport what sport is played on the largest field ?', 'ind who won the 1967 academy award for best actor ?', 'other what is after death ?', 'ind name the first private citizen to fly in space .', \"ind what was football star elroy hirsch 's nickname ?\", \"ind what singer sings `` oh boy '' ?\", 'count how much pizza do americans eat in a day ?', 'other what is the website for the usa journal ?', \"gr what army 's motto is blood and fire ?\", 'other what kind of patent did ermal fraze get in 1963 ?', 'desc what are you hearing when you put a seashell to your ear ?', 'reason why are haunted houses popular ?', 'other which gender has bigger thighs ?', 'state what u.s. state has the second-longest coastline ?', \"state what state 's home to the buffalo bill historical center ?\", 'speed how fast do cheetahs run ?', \"other what is ray bradbury 's illustrated man illustrated with ?\", 'speed how fast is a 45mhz processor ?', 'other what kind of puzzle first appeared in the u.s. in the new york world on december 21 , 1913 ?', 'ind what count did alexandre dumas write about ?', 'perc what are the odds of giving birth to twins ?', 'other what is the largest natural lake in pennsylvania ?', 'dist how far is london uk from california ?', 'animal name the two mystical ravens odin has at his command .', 'animal what was the species of winnie the pooh ?', 'def what is the virus hiv ?', 'count how many years old is benny carter ?', 'cremat what hermann hesse book gave its name to a rock group ?', 'other where does the santa fe trail begin and end ?', 'cremat what book is the follow-up to future shock ?', 'animal what african animals are known as the big five ?', 'letter what is the alphabet for latin ?', 'dismed what is the fear of frogs ?', 'city which city in canada is the least-populated ?', 'period how old is stevie wonder ?', 'ind who was the first taiwanese president ?', \"ind who is luke skywalker 's father ?\", 'other what does a dipsomaniac crave ?', \"def what is the definition of the term `` weapons system '' ?\", \"desc what are christopher marlowe 's and shakespeare 's literary contributions to english literature ?\", \"food what is nero wolfe 's favorite drink during office hours ?\", 'gr what is the first personal computer company ?', 'techmeth what is the most efficient way to start a barbeque ?', 'desc who was jane goodall ?', 'reason why are there braille things on the atm machines that people drive through ?', 'other where is the isle of man ?', 'cremat what book did aaron hass write ?', 'other what was the death toll at the eruption of mount pinatubo ?', 'date when will the millennium officially begin ?', \"ind who created the comic strip , `` garfield '' ?\", 'ind which vietnamese terrorist is now a un delegate in doonesbury ?', 'def what is real time processing ?', 'other what do we call the imaginary line along the top of the rocky mountains ?', \"country what country 's capital is lagos ?\", \"other where does ray bradbury 's chronicles take place ?\", 'ind who is the current prime minister and president of russia ?', 'ind who established a viking colony in greenland about 985 ?', \"symbol what was the distinguishing mark on the `` little rascals '' dog ?\", 'other what is the latitude and longitude of el paso , texas ?', 'other where can i get information about cystic fibrosis ?', 'other where did honecker rule ?', 'def what is the theory of equivalence states ?', 'other what does a philatelist collect ?', 'period what is the life span of the average monkey ?', 'count how many member states are in the un ?', 'ind who shot and killed himself while painting wheatfield with crows ?', 'desc what will happen when sodium is put in water ?', \"def what 's the meaning of uol ?\", 'ind what future president became senate majority whip under harry truman ?', 'ind who was the architect of central park ?', 'product which operating system runs on ibm-compatible machines ?', 'dist what are the dimensions of an ice hockey goal ?', \"date when was cnn 's first broadcast ?\", 'symbol what are the signs of a country going into a recession ?', 'def what is the circumorbital hematoma ?', 'country what african country is governed from ouagadougou ?', 'ind what was the christian name of the title character in our miss brooks ?', 'ind what hard-of hearing artist painted sunflowers ?', \"gr who were the yankee 's frequent enemies ?\", 'ind who wrote sons and lovers ?', \"termeq what is the english translation for the word `` caliente '' ?\", 'techmeth what handicraft requires you to interlace your warp and weft ?', 'city what french seaport claims to be the home of wines ?', 'period how long does it take sunlight to reach earth ?', 'count how many milliseconds in a second ?', 'ind what cherokee indian gave his name to a tree ?', 'date when were camcorders introduced in malaysia ?', 'perc what is the chance of conceiving quadruplets ?', 'ind who was the star of leave it to beaver ?', 'country what countries have the largest armed forces in the world ?', \"ind what was william f. cody 's better-known name ?\", \"manner how do i increase my biceps ' size ?\", 'ind who did richard nixon tender his resignation to ?', 'desc who was thucydides ?', 'manner how is the element strontium purified ?', \"ind which of the following rock 'n roll stars has a `` star '' on hollywood boulevard ?\", 'reason what are tonsils for ?', 'substance what molecules include fluorine , sodium and magnesium ?', 'sport what was the name of the ball game played by the mayans ?', \"cremat what was the sequel to the moon 's balloon ?\", 'money what is the exchange rate for australian to american money ?', \"desc what is the origin of the word ` posh ' ?\", 'manner how can anyone tell if a female had sexual intercourse ?', 'count how many states did richard nixon carry in 1972 ?', 'techmeth what basketball maneuver did bert loomis invent ?', 'cremat what is a good book to read for people who hate to read ?', 'count how many shillings more than 2 were there in a guinea ?', 'food what does a tarantula eat ?', 'color what are the three secondary colors ?', \"def what does the name `` sabrina '' mean ?\", \"ind who took over as conductor of the boston pops after arthur fiedler 's long reign ?\", 'event what were the trials called which followed world war ii ?', 'def what is hebephrenia ?', 'ind what nazi leader killed himself in jail just before he was to be executed as a war criminal ?', 'event what famous events have happened on march 27 ?', \"gr which company claimed to be `` the world 's biggest toy store '' ?\", \"other what brand number graces the black label of a bottle of jack daniel 's ?\", 'termeq what do i call the sons and daughters of my first cousins ?', 'reason what were the causes of the civil war ?', 'def what are maid-rites ?', 'city what city is terrorized by dracula in the night stalker ?', 'manner how can you prevent it ?', 'def what do the names andrew and christina mean ?']\n",
      "(1600, 100)\n",
      "(400, 100)\n",
      "(1600,)\n"
     ]
    }
   ],
   "source": [
    "print(dm.train_str_questions)\n",
    "print(dm.train_numeral_data.shape)  \n",
    "print(dm.valid_numeral_data.shape)  \n",
    "print(dm.train_numeral_labels.shape)"
   ]
  },
  {
   "cell_type": "markdown",
   "metadata": {},
   "source": [
    "You now have a data manager, named *dm* containing the training and validiation sets in both text and numeric forms. Your task is to play around and read this code to figure out the meanings of some important attributes that will be used in the next parts."
   ]
  },
  {
   "cell_type": "markdown",
   "metadata": {},
   "source": [
    "## <span style=\"color:#0b486b\">Part 1: Using Word2Vect to transform texts to vectors </span>\n",
    "\n",
    "<div style=\"text-align: right\"><span style=\"color:red; font-weight:bold\">[Total marks for this part: 20 marks]<span></div>"
   ]
  },
  {
   "cell_type": "markdown",
   "metadata": {},
   "source": [
    "In this part, you will be assessed on how to use a pretrained Word2Vect model for realizing a machine learning task. Basically, you will use this pretrained Word2Vect to transform the questions in the above dataset stored in the *data manager object dm* to numeric form for training a classifier using Logistic Regression (https://scikit-learn.org/stable/modules/generated/sklearn.linear_model.LogisticRegression.html)."
   ]
  },
  {
   "cell_type": "code",
   "execution_count": 5,
   "metadata": {},
   "outputs": [],
   "source": [
    "import gensim.downloader as api\n",
    "from gensim.models import Word2Vec\n",
    "from sklearn.preprocessing import MinMaxScaler\n",
    "from sklearn.metrics import accuracy_score\n",
    "import numpy as np"
   ]
  },
  {
   "cell_type": "markdown",
   "metadata": {},
   "source": [
    "#### <span style=\"color:red\">**Question 1.1**</span> \n",
    "**Write code to download the pretrained model *glove-wiki-gigaword-100*. Note that this model transforms a word in its dictionary to a $100$ dimensional vector.**\n",
    "\n",
    "**Write code for the function *get_word_vector(word, model)* used to transform a word to a vector using the pretrained Word2Vect model *model*. Note that for a word not in the vocabulary of our *word2vect*, you need to return a vector $0$ with 100 dimensions.**\n",
    "\n",
    "<div style=\"text-align: right\"><span style=\"color:red\">[2 marks]</span></div> "
   ]
  },
  {
   "cell_type": "code",
   "execution_count": 6,
   "metadata": {},
   "outputs": [],
   "source": [
    "word2vect = api.load(\"glove-wiki-gigaword-100\")# Insert your code here"
   ]
  },
  {
   "cell_type": "code",
   "execution_count": 7,
   "metadata": {},
   "outputs": [],
   "source": [
    "def get_word_vector(word, model):\n",
    "    try:\n",
    "        vector = model.get_vector(word) # Insert your code here\n",
    "    except: # word not in the vocabulary\n",
    "        vector = np.zeros(100)# Insert your code here\n",
    "    return vector"
   ]
  },
  {
   "cell_type": "markdown",
   "metadata": {},
   "source": [
    "#### <span style=\"color:red\">**Question 1.2**</span> \n",
    "\n",
    "**Write the code for the function `get_sentence_vector(sentence, important_score=None, model= None)`. Note that this function will transform a sentence to a 100-dimensional vector using the pretrained model *model*. In addition, the list *important_score* which has the same length as the *sentence* specifies the important scores of the words in the sentence. In your code, you first need to apply *softmax* function over *important_score* to obtain the important weight *important_weight* which forms a probability over the words of the sentence. Furthermore, the final vector of the sentence will be weighted sum of the individual vectors for words and the weights in *important_weight*.**\n",
    "- $important\\_weight = softmax(important\\_score)$.\n",
    "- $final\\_vector= important\\_weight[1]\\times v[1] + important\\_weight[2]\\times v[2] + ...+ important\\_weight[T]\\times v[T]$ where $T$ is the length of the sentence and $v[i]$ is the vector representation of the $i-th$  word in this sentence.\n",
    "\n",
    "**Note that if `important_score=None` is set by default, your function should return the average of all representation vectors corresponding to set `important_score=[1,1,...,1]`.**\n",
    "\n",
    "<div style=\"text-align: right\"><span style=\"color:red\">[2 marks]</span></div> "
   ]
  },
  {
   "cell_type": "code",
   "execution_count": 8,
   "metadata": {},
   "outputs": [],
   "source": [
    "def get_sentence_vector(sentence, important_score=None, model=None):\n",
    "    # Insert your code here\n",
    "    words = sentence.split()\n",
    "    word_vectors = np.array([get_word_vector(word, model) for word in words])\n",
    "    \n",
    "    if important_score == None:\n",
    "        return word_vectors.mean(axis = 0)\n",
    "    else:\n",
    "        important_weight = tf.nn.softmax(important_score).numpy()\n",
    "        return np.sum(word_vectors * important_weight, axis = 0)"
   ]
  },
  {
   "cell_type": "markdown",
   "metadata": {},
   "source": [
    "#### <span style=\"color:red\">**Question 1.3**</span> \n",
    "\n",
    "**Write code to transform questions in *dm.train_str_questions* and *dm.valid_str_questions* to feature vectors. Note that after running the following cells, you must have $X\\_train$ and $X\\_valid$ which are two numpy arrays of the feature vectors and $y\\_train$ and $y\\_valid$ which are two arrays of numeric labels (Hint: *dm.train_numeral_labels* and *dm.valid_numeral_labels*). You can add more lines to the following cells if necessary. In addition, you should decide the *important_score* by yourself. For example, you might reckon that the 1st score is 1, the 2nd score is decayed by 0.9, the 3rd is decayed by 0.9, and so on.**\n",
    "\n",
    "<div style=\"text-align: right\"><span style=\"color:red\">[4 marks]</span></div> "
   ]
  },
  {
   "cell_type": "code",
   "execution_count": 9,
   "metadata": {},
   "outputs": [],
   "source": [
    "important_score = [0.9**i for i in range(100)]"
   ]
  },
  {
   "cell_type": "code",
   "execution_count": 10,
   "metadata": {},
   "outputs": [
    {
     "name": "stdout",
     "output_type": "stream",
     "text": [
      "Transform training set to feature vectors...\n"
     ]
    }
   ],
   "source": [
    "print(\"Transform training set to feature vectors...\")\n",
    "X_train = np.array([get_sentence_vector(questions, important_score, word2vect) for questions in dm.train_str_questions])# Insert your code here\n",
    "y_train = np.array(dm.train_numeral_labels)# Insert your code here"
   ]
  },
  {
   "cell_type": "code",
   "execution_count": 11,
   "metadata": {},
   "outputs": [
    {
     "name": "stdout",
     "output_type": "stream",
     "text": [
      "Transform validation set to feature vectors...\n"
     ]
    }
   ],
   "source": [
    "print(\"Transform validation set to feature vectors...\")\n",
    "X_valid = np.array([get_sentence_vector(questions, important_score, word2vect) for questions in dm.valid_str_questions])# Insert your code here\n",
    "y_valid = np.array(dm.valid_numeral_labels)# Insert your code here"
   ]
  },
  {
   "cell_type": "markdown",
   "metadata": {},
   "source": [
    "#### <span style=\"color:red\">**Question 1.4**</span> \n",
    "\n",
    "**It is now to use *MinMaxScaler(feature_range=(-1,1))* in scikit-learn to scale both training and validation sets to the range $(-1,1)$.**\n",
    "\n",
    "<div style=\"text-align: right\"><span style=\"color:red\">[2 marks]</span></div> "
   ]
  },
  {
   "cell_type": "code",
   "execution_count": 12,
   "metadata": {},
   "outputs": [],
   "source": [
    "scaler = MinMaxScaler(feature_range=(-1,1))\n",
    "scaler.fit(X_train)\n",
    "X_train = scaler.transform(X_train)# Insert your code here\n",
    "scaler.fit(X_valid)\n",
    "X_valid = scaler.transform(X_valid)# Insert your code here"
   ]
  },
  {
   "cell_type": "markdown",
   "metadata": {},
   "source": [
    "#### <span style=\"color:red\">**Question 1.5**</span>\n",
    "**Train a Logistic Regression model on the training set and then evaluate on the validation set.**\n",
    "<div style=\"text-align: right\"><span style=\"color:red\">[2 marks]</span></div>"
   ]
  },
  {
   "cell_type": "code",
   "execution_count": 14,
   "metadata": {},
   "outputs": [],
   "source": [
    "from sklearn.linear_model import LogisticRegression\n",
    "from sklearn.metrics import accuracy_score"
   ]
  },
  {
   "cell_type": "code",
   "execution_count": 15,
   "metadata": {},
   "outputs": [
    {
     "data": {
      "text/html": [
       "<style>#sk-container-id-1 {color: black;}#sk-container-id-1 pre{padding: 0;}#sk-container-id-1 div.sk-toggleable {background-color: white;}#sk-container-id-1 label.sk-toggleable__label {cursor: pointer;display: block;width: 100%;margin-bottom: 0;padding: 0.3em;box-sizing: border-box;text-align: center;}#sk-container-id-1 label.sk-toggleable__label-arrow:before {content: \"▸\";float: left;margin-right: 0.25em;color: #696969;}#sk-container-id-1 label.sk-toggleable__label-arrow:hover:before {color: black;}#sk-container-id-1 div.sk-estimator:hover label.sk-toggleable__label-arrow:before {color: black;}#sk-container-id-1 div.sk-toggleable__content {max-height: 0;max-width: 0;overflow: hidden;text-align: left;background-color: #f0f8ff;}#sk-container-id-1 div.sk-toggleable__content pre {margin: 0.2em;color: black;border-radius: 0.25em;background-color: #f0f8ff;}#sk-container-id-1 input.sk-toggleable__control:checked~div.sk-toggleable__content {max-height: 200px;max-width: 100%;overflow: auto;}#sk-container-id-1 input.sk-toggleable__control:checked~label.sk-toggleable__label-arrow:before {content: \"▾\";}#sk-container-id-1 div.sk-estimator input.sk-toggleable__control:checked~label.sk-toggleable__label {background-color: #d4ebff;}#sk-container-id-1 div.sk-label input.sk-toggleable__control:checked~label.sk-toggleable__label {background-color: #d4ebff;}#sk-container-id-1 input.sk-hidden--visually {border: 0;clip: rect(1px 1px 1px 1px);clip: rect(1px, 1px, 1px, 1px);height: 1px;margin: -1px;overflow: hidden;padding: 0;position: absolute;width: 1px;}#sk-container-id-1 div.sk-estimator {font-family: monospace;background-color: #f0f8ff;border: 1px dotted black;border-radius: 0.25em;box-sizing: border-box;margin-bottom: 0.5em;}#sk-container-id-1 div.sk-estimator:hover {background-color: #d4ebff;}#sk-container-id-1 div.sk-parallel-item::after {content: \"\";width: 100%;border-bottom: 1px solid gray;flex-grow: 1;}#sk-container-id-1 div.sk-label:hover label.sk-toggleable__label {background-color: #d4ebff;}#sk-container-id-1 div.sk-serial::before {content: \"\";position: absolute;border-left: 1px solid gray;box-sizing: border-box;top: 0;bottom: 0;left: 50%;z-index: 0;}#sk-container-id-1 div.sk-serial {display: flex;flex-direction: column;align-items: center;background-color: white;padding-right: 0.2em;padding-left: 0.2em;position: relative;}#sk-container-id-1 div.sk-item {position: relative;z-index: 1;}#sk-container-id-1 div.sk-parallel {display: flex;align-items: stretch;justify-content: center;background-color: white;position: relative;}#sk-container-id-1 div.sk-item::before, #sk-container-id-1 div.sk-parallel-item::before {content: \"\";position: absolute;border-left: 1px solid gray;box-sizing: border-box;top: 0;bottom: 0;left: 50%;z-index: -1;}#sk-container-id-1 div.sk-parallel-item {display: flex;flex-direction: column;z-index: 1;position: relative;background-color: white;}#sk-container-id-1 div.sk-parallel-item:first-child::after {align-self: flex-end;width: 50%;}#sk-container-id-1 div.sk-parallel-item:last-child::after {align-self: flex-start;width: 50%;}#sk-container-id-1 div.sk-parallel-item:only-child::after {width: 0;}#sk-container-id-1 div.sk-dashed-wrapped {border: 1px dashed gray;margin: 0 0.4em 0.5em 0.4em;box-sizing: border-box;padding-bottom: 0.4em;background-color: white;}#sk-container-id-1 div.sk-label label {font-family: monospace;font-weight: bold;display: inline-block;line-height: 1.2em;}#sk-container-id-1 div.sk-label-container {text-align: center;}#sk-container-id-1 div.sk-container {/* jupyter's `normalize.less` sets `[hidden] { display: none; }` but bootstrap.min.css set `[hidden] { display: none !important; }` so we also need the `!important` here to be able to override the default hidden behavior on the sphinx rendered scikit-learn.org. See: https://github.com/scikit-learn/scikit-learn/issues/21755 */display: inline-block !important;position: relative;}#sk-container-id-1 div.sk-text-repr-fallback {display: none;}</style><div id=\"sk-container-id-1\" class=\"sk-top-container\"><div class=\"sk-text-repr-fallback\"><pre>LogisticRegression(max_iter=500)</pre><b>In a Jupyter environment, please rerun this cell to show the HTML representation or trust the notebook. <br />On GitHub, the HTML representation is unable to render, please try loading this page with nbviewer.org.</b></div><div class=\"sk-container\" hidden><div class=\"sk-item\"><div class=\"sk-estimator sk-toggleable\"><input class=\"sk-toggleable__control sk-hidden--visually\" id=\"sk-estimator-id-1\" type=\"checkbox\" checked><label for=\"sk-estimator-id-1\" class=\"sk-toggleable__label sk-toggleable__label-arrow\">LogisticRegression</label><div class=\"sk-toggleable__content\"><pre>LogisticRegression(max_iter=500)</pre></div></div></div></div></div>"
      ],
      "text/plain": [
       "LogisticRegression(max_iter=500)"
      ]
     },
     "execution_count": 15,
     "metadata": {},
     "output_type": "execute_result"
    }
   ],
   "source": [
    "# Insert your code for training here\n",
    "regression_model = LogisticRegression(max_iter = 500)\n",
    "regression_model.fit(X_train, y_train)"
   ]
  },
  {
   "cell_type": "code",
   "execution_count": 18,
   "metadata": {},
   "outputs": [
    {
     "name": "stdout",
     "output_type": "stream",
     "text": [
      "The accuracy score for the validation dataset is 0.7825\n"
     ]
    }
   ],
   "source": [
    "# Insert your code for validation here\n",
    "predictions = regression_model.predict(X_valid)\n",
    "print(\"The accuracy score for the validation dataset is \" + str(accuracy_score(y_valid, predictions)))"
   ]
  },
  {
   "cell_type": "markdown",
   "metadata": {},
   "source": [
    "### **Embedding visualization**"
   ]
  },
  {
   "cell_type": "markdown",
   "metadata": {},
   "source": [
    "**As you know, the embedding matrix is a collection of embedding vectors, each is for one word. In this part, you will base on the cosine similarity of the embedding vectors for the words to find the top-k most relevant words for a given word.**\n",
    "\n",
    "**Good embeddings should have words close in meaning near each other by some similarity metrics. The similarity metric we'll use is the `consine` similarity, which is defined for two vector $\\mathbf{u}$ and $\\mathbf{v}$ as $\\cos(\\mathbf{u}, \\mathbf{v})=\\frac{\\mathbf{u} \\cdot \\mathbf{v}}{\\left\\Vert{\\mathbf{u}}\\right\\Vert\\left\\Vert{\\mathbf{v}}\\right\\Vert}$ where $\\cdot$ means dot product and $\\left\\Vert\\cdot\\right\\Vert$ means the $L^2$ norm.**"
   ]
  },
  {
   "cell_type": "code",
   "execution_count": 13,
   "metadata": {},
   "outputs": [],
   "source": [
    "def cosine_similarity(u,v):\n",
    "    return np.dot(u,v)/(np.linalg.norm(u)*np.linalg.norm(v))"
   ]
  },
  {
   "cell_type": "markdown",
   "metadata": {},
   "source": [
    "#### <span style=\"color:red\">**Question 1.6** </span> \n",
    "\n",
    "**Write code for the `function find_most_similar(word=None, k=5, model=None)` which returns a list of the top-`k` most similar words (in descending order) for a given word. This similarity is based on the cosine similarity of embedding vectors obtained from the pretrained model `glove-wiki-gigaword-100` (see Question 1.1). The parameter `include_cur_word` specifies whether the given word should be included in the returned output or not. This means that if `include_cur_word=True`, the function will return `k+1` words.** \n",
    "\n",
    "<div style=\"text-align: right\"><span style=\"color:red\">[3 marks]</span></div>"
   ]
  },
  {
   "cell_type": "code",
   "execution_count": 14,
   "metadata": {},
   "outputs": [],
   "source": [
    "def find_most_similar(word=None, k=5, model=None, include_cur_word=False):\n",
    "    try:\n",
    "        lst = model.similar_by_word(word, k)\n",
    "        \n",
    "        complete_lst = []\n",
    "        if include_cur_word == True:\n",
    "            word_vec = model.get_vector(word)\n",
    "            complete_lst.append([word, cosine_similarity(word_vec, word_vec), word_vec])\n",
    "            \n",
    "        for i in range(len(lst)):\n",
    "            complete_lst.append([lst[i][0], lst[i][1], model.get_vector(lst[i][0])])\n",
    "\n",
    "        return [[elem[0] for elem in complete_lst], [elem[1] for elem in complete_lst], [elem[2] for elem in complete_lst]]\n",
    "    except: # Word not in the vocabulary\n",
    "        print(\"Word is not in the dictionary!\")"
   ]
  },
  {
   "cell_type": "markdown",
   "metadata": {},
   "source": [
    "Here is the example of the above function. You can check your implementation using the provided `result`. As you can observe, the `result` makes sense which demonstrates that the embedding matrix is meaningful."
   ]
  },
  {
   "cell_type": "code",
   "execution_count": 15,
   "metadata": {},
   "outputs": [
    {
     "name": "stdout",
     "output_type": "stream",
     "text": [
      "Your implementation is correct.\n"
     ]
    }
   ],
   "source": [
    "result = ['computer','computers','software','technology','pc','hardware','internet','desktop','electronic','systems','computing']\n",
    "output = find_most_similar(word='computer', k=10, model=word2vect, include_cur_word=True)[0]\n",
    "if output == result:\n",
    "    print(\"Your implementation is correct.\")\n",
    "else:\n",
    "    print(\"Your implementation is not correct.\")"
   ]
  },
  {
   "cell_type": "markdown",
   "metadata": {},
   "source": [
    "#### <span style=\"color:red\">**Question 1.7** </span> \n",
    "**Implement the `plot2D_with_groups(word_list, model, k=10)` function to visualize groups of similar words in 2D space. The `word_list` parameter is a list of words, and for each word in the `word_list`, find its top-`k` most similar words (which forms a group) using the `find_most_similar` function. Use tSNE to project embedding vectors into 2D space and plot groups with different colors. You can use the colormaps from `matplotlib`, i.e., `cmap = plt.get_cmap('brg')`.**\n",
    "\n",
    "**The figure bellow is the output obtained by running `plot2D_with_groups` using the input `word_list=['an', 'introduction', 'to', 'deep', 'learning']`. Note that the words within the `word_list` are also visualized (in black) as shown in the figure.**\n",
    "\n",
    "<img src=\"./images/2Dtsne.png\" align=\"center\" width=600/>\n",
    "\n",
    "**As you can observe, words within each group tend to be closer to each other, while words from different groups are more distant.**\n",
    "\n",
    "<div style=\"text-align: right\"><span style=\"color:red\">[5 marks]</span></div>"
   ]
  },
  {
   "cell_type": "code",
   "execution_count": 16,
   "metadata": {},
   "outputs": [],
   "source": [
    "import matplotlib.pyplot as plt\n",
    "from sklearn.manifold import TSNE\n",
    "\n",
    "tsne = TSNE(perplexity=5, n_components=2, init='pca', n_iter=5000)\n",
    "\n",
    "#Code is adapted from tutorial 8\n",
    "def plot2D_with_groups(word_list=None, k=10, model=None):\n",
    "   # Insert your code here\n",
    "    plt.figure(figsize = (20, 20))\n",
    "    words_to_plot = []\n",
    "    colors_to_plot = []\n",
    "    color_index = 0\n",
    "    colors = ['b', 'g', 'r', 'c', 'm']\n",
    "    \n",
    "    for word in word_list:\n",
    "        similar_words = find_most_similar(word = word, k = k, model = model, include_cur_word = True)[0]\n",
    "        for similar_word in similar_words:\n",
    "            words_to_plot.append(similar_word)\n",
    "            colors_to_plot.append(colors[color_index])\n",
    "        color_index += 1\n",
    "    \n",
    "    embeddings = np.array([model.get_vector(word) for word in words_to_plot])\n",
    "    low_dim_embs = tsne.fit_transform(embeddings)\n",
    "    \n",
    "    for i, label in enumerate(words_to_plot):\n",
    "        x, y = low_dim_embs[i,:]\n",
    "        if label in word_list:\n",
    "            appropriate_color = 'black'\n",
    "        else:\n",
    "            appropriate_color = colors_to_plot[i]\n",
    "        plt.scatter(x, y, color = appropriate_color)\n",
    "        plt.annotate(label,\n",
    "                     xy=(x, y),\n",
    "                     xytext=(5, 2),\n",
    "                     textcoords='offset points',\n",
    "                     ha='right',\n",
    "                     va='bottom',\n",
    "                     color = appropriate_color)\n",
    "    plt.xlabel(\"x\")\n",
    "    plt.ylabel(\"y\")\n",
    "    plt.show()"
   ]
  },
  {
   "cell_type": "code",
   "execution_count": 17,
   "metadata": {},
   "outputs": [
    {
     "data": {
      "image/png": "[encoded data removed]",
      "text/plain": [
       "<Figure size 2000x2000 with 1 Axes>"
      ]
     },
     "metadata": {},
     "output_type": "display_data"
    }
   ],
   "source": [
    "word_list = ['an', 'introduction', 'to', 'deep', 'learning']\n",
    "plot2D_with_groups(word_list=word_list, k=10, model=word2vect)"
   ]
  },
  {
   "cell_type": "markdown",
   "metadata": {},
   "source": [
    "## <span style=\"color:#0b486b\">Part 2: Text CNN for sequence modeling and neural embedding </span>\n",
    "\n",
    "<div style=\"text-align: right\"><span style=\"color:red; font-weight:bold\">[Total marks for this part: 10 marks]<span></div>"
   ]
  },
  {
   "cell_type": "markdown",
   "metadata": {},
   "source": [
    "#### <span style=\"color:red\">**Question 2.1**</span> \n",
    "\n",
    "**In what follows, you are required to complete the code for Text CNN for sentence classification. The paper of Text CNN can be found at this [link](https://www.aclweb.org/anthology/D14-1181.pdf). Here is the description of the Text CNN that you need to construct.**\n",
    "- There are three attributes (properties or instance variables): *embed_size, state_size, data_manager*.\n",
    "  - `embed_size`: the dimension of the vector space for which the words are embedded to using the embedding matrix.\n",
    "  - `state_size`: the number of filters used in *Conv1D* (reference [here](https://www.tensorflow.org/api_docs/python/tf/keras/layers/Conv1D)).\n",
    "  - `data_manager`: the data manager to store information of the dataset.\n",
    "- The detail of the computational process is as follows:\n",
    "  - Given input $x$, we embed $x$ using the embedding matrix to obtain an $3D$ tensor $[batch\\_size \\times maxlen \\times embed\\_size]$ as $h$.\n",
    "  - We feed $h$ to three *Conv1D* layers, each of which has $state\\_size$ filters, padding=same, activation= relu, and $kernel\\_size= 3, 5, 7$ respectively to obtain $h1, h2, h3$. Note that each $h1, h2, h3$ is a 3D tensor with the shape $[batch\\_size \\times output\\_size \\times state\\_size]$.\n",
    "  - We then apply *GlobalMaxPool1D()* (reference [here](https://www.tensorflow.org/api_docs/python/tf/keras/layers/GlobalMaxPool1D)) over $h1, h2, h3$ to obtain 2D tensors stored in $h1, h2, h3$ again.\n",
    "  - We then concatenate three 2D tensors $h1, h2, h3$ to obtain $h$. Note that you need to specify the axis to concatenate.\n",
    "  - We finally build up one dense layer on the top of $h$ for classification.\n",
    "  \n",
    "  <div style=\"text-align: right\"><span style=\"color:red\">[8 marks]</span></div>\n",
    "  "
   ]
  },
  {
   "cell_type": "code",
   "execution_count": 100,
   "metadata": {},
   "outputs": [],
   "source": [
    "class TextCNN:\n",
    "    def __init__(self, embed_size= 128, state_size=16, data_manager=None):\n",
    "        self.data_manager = data_manager\n",
    "        self.embed_size = embed_size\n",
    "        self.state_size = state_size\n",
    "    \n",
    "    def build(self):\n",
    "        x = tf.keras.layers.Input(shape=[None])\n",
    "        h = tf.keras.layers.Embedding(self.data_manager.vocab_size +1, self.embed_size, mask_zero=True)(x)\n",
    "        h1 = tf.keras.layers.Conv1D(filters = self.state_size, padding = \"same\", activation = \"relu\", kernel_size = 3)(h)# Insert your code here\n",
    "        h2 = tf.keras.layers.Conv1D(filters = self.state_size, padding = \"same\", activation = \"relu\", kernel_size = 5)(h)# Insert your code here\n",
    "        h3 = tf.keras.layers.Conv1D(filters = self.state_size, padding = \"same\", activation = \"relu\", kernel_size = 7)(h)# Insert your code here\n",
    "        h1 = tf.keras.layers.GlobalMaxPooling1D()(h1)# Insert your code here\n",
    "        h2 = tf.keras.layers.GlobalMaxPooling1D()(h2)# Insert your code here\n",
    "        h3 = tf.keras.layers.GlobalMaxPooling1D()(h3)# Insert your code here\n",
    "        h = tf.keras.layers.Concatenate(axis = 1)([h1, h2, h3])# Insert your code here\n",
    "        h = tf.keras.layers.Dense(self.data_manager.num_classes, activation='softmax')(h)\n",
    "        self.model = tf.keras.Model(inputs=x, outputs=h) \n",
    "    \n",
    "    def compile_model(self, *args, **kwargs):\n",
    "        self.model.compile(*args, **kwargs)\n",
    "    \n",
    "    def fit(self, *args, **kwargs):\n",
    "        return self.model.fit(*args, **kwargs)\n",
    "    \n",
    "    def evaluate(self, *args, **kwargs):\n",
    "        self.model.evaluate(*args, **kwargs)"
   ]
  },
  {
   "cell_type": "markdown",
   "metadata": {},
   "source": [
    "#### <span style=\"color:red\">**Question 2.2**</span> \n",
    "**Here is the code to test TextCNN above. You can observe that TextCNN outperforms the traditional approach Word2Vect with Logistic Regression for this task. The reason is that TextCNN enables us to automatically learn the feature that fits to the task. This makes deep learning different from hand-crafted feature approaches. Complete the code to test the model. Note that when compiling the model, you can use the Adam optimizer.**\n",
    "\n",
    "<div style=\"text-align: right\"><span style=\"color:red\">[2 marks]</span></div>"
   ]
  },
  {
   "cell_type": "code",
   "execution_count": 101,
   "metadata": {},
   "outputs": [
    {
     "name": "stdout",
     "output_type": "stream",
     "text": [
      "Epoch 1/20\n",
      "25/25 [==============================] - 3s 61ms/step - loss: 1.6839 - accuracy: 0.3444 - val_loss: 1.5255 - val_accuracy: 0.5000\n",
      "Epoch 2/20\n",
      "25/25 [==============================] - 1s 54ms/step - loss: 1.2576 - accuracy: 0.7175 - val_loss: 1.0139 - val_accuracy: 0.8500\n",
      "Epoch 3/20\n",
      "25/25 [==============================] - 1s 54ms/step - loss: 0.6855 - accuracy: 0.9056 - val_loss: 0.4879 - val_accuracy: 0.9225\n",
      "Epoch 4/20\n",
      "25/25 [==============================] - 1s 52ms/step - loss: 0.2999 - accuracy: 0.9500 - val_loss: 0.2515 - val_accuracy: 0.9550\n",
      "Epoch 5/20\n",
      "25/25 [==============================] - 1s 57ms/step - loss: 0.1495 - accuracy: 0.9681 - val_loss: 0.1705 - val_accuracy: 0.9550\n",
      "Epoch 6/20\n",
      "25/25 [==============================] - 1s 51ms/step - loss: 0.0857 - accuracy: 0.9887 - val_loss: 0.1330 - val_accuracy: 0.9650\n",
      "Epoch 7/20\n",
      "25/25 [==============================] - 2s 62ms/step - loss: 0.0526 - accuracy: 0.9975 - val_loss: 0.1133 - val_accuracy: 0.9675\n",
      "Epoch 8/20\n",
      "25/25 [==============================] - 1s 53ms/step - loss: 0.0343 - accuracy: 0.9994 - val_loss: 0.1013 - val_accuracy: 0.9675\n",
      "Epoch 9/20\n",
      "25/25 [==============================] - 1s 54ms/step - loss: 0.0235 - accuracy: 0.9994 - val_loss: 0.0938 - val_accuracy: 0.9675\n",
      "Epoch 10/20\n",
      "25/25 [==============================] - 2s 60ms/step - loss: 0.0169 - accuracy: 0.9994 - val_loss: 0.0886 - val_accuracy: 0.9675\n",
      "Epoch 11/20\n",
      "25/25 [==============================] - 2s 63ms/step - loss: 0.0126 - accuracy: 1.0000 - val_loss: 0.0853 - val_accuracy: 0.9700\n",
      "Epoch 12/20\n",
      "25/25 [==============================] - 1s 56ms/step - loss: 0.0098 - accuracy: 1.0000 - val_loss: 0.0830 - val_accuracy: 0.9700\n",
      "Epoch 13/20\n",
      "25/25 [==============================] - 1s 57ms/step - loss: 0.0078 - accuracy: 1.0000 - val_loss: 0.0814 - val_accuracy: 0.9700\n",
      "Epoch 14/20\n",
      "25/25 [==============================] - 2s 67ms/step - loss: 0.0064 - accuracy: 1.0000 - val_loss: 0.0802 - val_accuracy: 0.9700\n",
      "Epoch 15/20\n",
      "25/25 [==============================] - 2s 61ms/step - loss: 0.0053 - accuracy: 1.0000 - val_loss: 0.0794 - val_accuracy: 0.9700\n",
      "Epoch 16/20\n",
      "25/25 [==============================] - 1s 54ms/step - loss: 0.0045 - accuracy: 1.0000 - val_loss: 0.0789 - val_accuracy: 0.9700\n",
      "Epoch 17/20\n",
      "25/25 [==============================] - 1s 60ms/step - loss: 0.0038 - accuracy: 1.0000 - val_loss: 0.0785 - val_accuracy: 0.9700\n",
      "Epoch 18/20\n",
      "25/25 [==============================] - 2s 60ms/step - loss: 0.0033 - accuracy: 1.0000 - val_loss: 0.0782 - val_accuracy: 0.9750\n",
      "Epoch 19/20\n",
      "25/25 [==============================] - 1s 60ms/step - loss: 0.0029 - accuracy: 1.0000 - val_loss: 0.0779 - val_accuracy: 0.9750\n",
      "Epoch 20/20\n",
      "25/25 [==============================] - 1s 59ms/step - loss: 0.0026 - accuracy: 1.0000 - val_loss: 0.0777 - val_accuracy: 0.9750\n"
     ]
    },
    {
     "data": {
      "text/plain": [
       "<keras.src.callbacks.History at 0x2001ebf9630>"
      ]
     },
     "execution_count": 101,
     "metadata": {},
     "output_type": "execute_result"
    }
   ],
   "source": [
    "text_cnn = TextCNN(data_manager=dm)\n",
    "text_cnn.build()\n",
    "# Insert your code here \n",
    "# You are required to compile the model and train the model on 20 epochs\n",
    "text_cnn.compile_model(optimizer = \"adam\", loss='sparse_categorical_crossentropy', metrics=['accuracy'])\n",
    "text_cnn.fit(dm.tf_train_set.batch(64), epochs=20, validation_data=dm.tf_valid_set.batch(64))"
   ]
  },
  {
   "cell_type": "markdown",
   "metadata": {},
   "source": [
    "## <span style=\"color:#0b486b\">Part 3: RNN-based models for sequence modeling and neural embedding</span>\n",
    "\n",
    "<div style=\"text-align: right\"><span style=\"color:red; font-weight:bold\">[Total marks for this part: 32 marks]<span></div>"
   ]
  },
  {
   "cell_type": "markdown",
   "metadata": {},
   "source": [
    "### <span style=\"color:#0b486b\">3.1. RNNs with different cell types</span> ###\n",
    "\n",
    "<div style=\"text-align: right\"><span style=\"color:red; font-weight:bold\">[Total marks for this part: 12 marks]<span></div>"
   ]
  },
  {
   "cell_type": "markdown",
   "metadata": {},
   "source": [
    "#### <span style=\"color:red\">**Question 3.1.1**</span> \n",
    "**In this part, you need to construct a vanilla RNN to learn from the dataset of interest. Basically, you are required to construct the class RNN with the following requirements:**\n",
    "- Attribute `data_manager (self.data_manager)`: specifies the data manager used to store data for the model.\n",
    "- Attribute `cell_type (self.cell_type)`: can take one of the three values, i.e., `simple_rnn`, `gru`, or `lstm` which specifies the memory cells formed a hidden layer.\n",
    "- `state_sizes (self.state_sizes)` indicates the list of the hidden sizes  of memory cells. For example, $state\\_sizes = [64, 128]$ means that you have two hidden layers in your network with hidden sizes of $64$ and $128$ respectively.\n",
    "\n",
    "**Note that when declaring an embedding layer for the network, you need to set *mask_zero=True* so that the padding zeros in the sentences will be masked and ignored. This helps to have variable length RNNs. For more detail, you can refer to this [link](https://www.tensorflow.org/guide/keras/masking_and_padding).**\n",
    "\n",
    "<div style=\"text-align: right\"><span style=\"color:red\">[7 marks]</span></div>"
   ]
  },
  {
   "cell_type": "code",
   "execution_count": 104,
   "metadata": {},
   "outputs": [],
   "source": [
    "class BaseRNN:\n",
    "    def __init__(self, cell_type='gru', embed_size=128, state_sizes=[128, 64], data_manager=None):\n",
    "        self.cell_type = cell_type\n",
    "        self.state_sizes = state_sizes\n",
    "        self.embed_size = embed_size\n",
    "        self.data_manager = data_manager\n",
    "        self.vocab_size = self.data_manager.vocab_size + 1 \n",
    "        \n",
    "    # return the corresponding memory cell\n",
    "    @staticmethod\n",
    "    def get_layer(cell_type='gru', state_size=128, return_sequences=False, activation='tanh'):\n",
    "        if cell_type == 'gru':\n",
    "            return tf.keras.layers.GRU(units = state_size, return_sequences = return_sequences, activation = activation)# Insert your code here\n",
    "        elif cell_type == 'lstm':\n",
    "            return tf.keras.layers.LSTM(units = state_size, return_sequences = return_sequences, activation = activation)# Insert your code here\n",
    "        else:\n",
    "            return tf.keras.layers.SimpleRNN(units = state_size, return_sequences = return_sequences, activation = activation)# Insert your code here\n",
    "    \n",
    "    def build(self):\n",
    "        x = tf.keras.layers.Input(shape=[None])\n",
    "        h = tf.keras.layers.Embedding(input_dim = self.vocab_size, output_dim = self.embed_size, mask_zero = True)(x)# Insert your code here\n",
    "        num_layers = len(self.state_sizes)# Insert your code here\n",
    "        for i in range(num_layers-1):\n",
    "            h =  self.get_layer(self.cell_type, self.state_sizes[i], return_sequences = True)(h)# Insert your code here, you can insert more lines if necessary\n",
    "        #Only need the last hidden state output for the last layer\n",
    "        h = self.get_layer(self.cell_type, self.state_sizes[-1], return_sequences = False)(h)\n",
    "        h = tf.keras.layers.Dense(dm.num_classes, activation='softmax')(h)\n",
    "        self.model = tf.keras.Model(inputs=x, outputs=h)\n",
    "   \n",
    "    def compile_model(self, *args, **kwargs):\n",
    "        self.model.compile(*args, **kwargs)\n",
    "    \n",
    "    def fit(self, *args, **kwargs):\n",
    "        return self.model.fit(*args, **kwargs)\n",
    "    \n",
    "    def evaluate(self, *args, **kwargs):\n",
    "        self.model.evaluate(*args, **kwargs)       \n"
   ]
  },
  {
   "cell_type": "markdown",
   "metadata": {},
   "source": [
    "#### <span style=\"color:red\">**Question 3.1.2**</span> \n",
    "**Run with simple RNN ('simple_rnn') cell with $embed\\_size= 128, state\\_sizes= [64, 128], data\\_manager= dm$.**\n",
    "\n",
    "<div style=\"text-align: right\"><span style=\"color:red\">[1 mark]</span></div>"
   ]
  },
  {
   "cell_type": "code",
   "execution_count": 105,
   "metadata": {},
   "outputs": [
    {
     "name": "stdout",
     "output_type": "stream",
     "text": [
      "Epoch 1/20\n",
      "25/25 [==============================] - 4s 86ms/step - loss: 0.8789 - accuracy: 0.6969 - val_loss: 0.2666 - val_accuracy: 0.9375\n",
      "Epoch 2/20\n",
      "25/25 [==============================] - 2s 80ms/step - loss: 0.1727 - accuracy: 0.9531 - val_loss: 0.1717 - val_accuracy: 0.9450\n",
      "Epoch 3/20\n",
      "25/25 [==============================] - 2s 82ms/step - loss: 0.0924 - accuracy: 0.9744 - val_loss: 0.1391 - val_accuracy: 0.9625\n",
      "Epoch 4/20\n",
      "25/25 [==============================] - 2s 88ms/step - loss: 0.0906 - accuracy: 0.9794 - val_loss: 0.2291 - val_accuracy: 0.9325\n",
      "Epoch 5/20\n",
      "25/25 [==============================] - 2s 79ms/step - loss: 0.0345 - accuracy: 0.9900 - val_loss: 0.1139 - val_accuracy: 0.9650\n",
      "Epoch 6/20\n",
      "25/25 [==============================] - 2s 81ms/step - loss: 0.0563 - accuracy: 0.9856 - val_loss: 0.1272 - val_accuracy: 0.9675\n",
      "Epoch 7/20\n",
      "25/25 [==============================] - 2s 83ms/step - loss: 0.0179 - accuracy: 0.9962 - val_loss: 0.1219 - val_accuracy: 0.9650\n",
      "Epoch 8/20\n",
      "25/25 [==============================] - 2s 85ms/step - loss: 0.0207 - accuracy: 0.9937 - val_loss: 0.2150 - val_accuracy: 0.9475\n",
      "Epoch 9/20\n",
      "25/25 [==============================] - 2s 84ms/step - loss: 0.0227 - accuracy: 0.9931 - val_loss: 0.0979 - val_accuracy: 0.9675\n",
      "Epoch 10/20\n",
      "25/25 [==============================] - 2s 84ms/step - loss: 0.0031 - accuracy: 1.0000 - val_loss: 0.0997 - val_accuracy: 0.9750\n",
      "Epoch 11/20\n",
      "25/25 [==============================] - 2s 85ms/step - loss: 0.0014 - accuracy: 1.0000 - val_loss: 0.1131 - val_accuracy: 0.9725\n",
      "Epoch 12/20\n",
      "25/25 [==============================] - 2s 81ms/step - loss: 6.9764e-04 - accuracy: 1.0000 - val_loss: 0.1307 - val_accuracy: 0.9700\n",
      "Epoch 13/20\n",
      "25/25 [==============================] - 2s 77ms/step - loss: 3.9772e-04 - accuracy: 1.0000 - val_loss: 0.1531 - val_accuracy: 0.9700\n",
      "Epoch 14/20\n",
      "25/25 [==============================] - 2s 76ms/step - loss: 2.6695e-04 - accuracy: 1.0000 - val_loss: 0.1711 - val_accuracy: 0.9675\n",
      "Epoch 15/20\n",
      "25/25 [==============================] - 2s 77ms/step - loss: 2.1402e-04 - accuracy: 1.0000 - val_loss: 0.1546 - val_accuracy: 0.9675\n",
      "Epoch 16/20\n",
      "25/25 [==============================] - 2s 77ms/step - loss: 2.9513e-04 - accuracy: 1.0000 - val_loss: 0.1206 - val_accuracy: 0.9750\n",
      "Epoch 17/20\n",
      "25/25 [==============================] - 2s 84ms/step - loss: 1.5673e-04 - accuracy: 1.0000 - val_loss: 0.1337 - val_accuracy: 0.9750\n",
      "Epoch 18/20\n",
      "25/25 [==============================] - 2s 92ms/step - loss: 1.3169e-04 - accuracy: 1.0000 - val_loss: 0.1559 - val_accuracy: 0.9700\n",
      "Epoch 19/20\n",
      "25/25 [==============================] - 2s 93ms/step - loss: 1.0333e-04 - accuracy: 1.0000 - val_loss: 0.1642 - val_accuracy: 0.9675\n",
      "Epoch 20/20\n",
      "25/25 [==============================] - 2s 89ms/step - loss: 9.1245e-05 - accuracy: 1.0000 - val_loss: 0.1649 - val_accuracy: 0.9675\n"
     ]
    },
    {
     "data": {
      "text/plain": [
       "<keras.src.callbacks.History at 0x2001e7a7cd0>"
      ]
     },
     "execution_count": 105,
     "metadata": {},
     "output_type": "execute_result"
    }
   ],
   "source": [
    "base_rnn = BaseRNN(\"simple_rnn\", 128, [64, 128], dm)# Insert your code here\n",
    "base_rnn.build()\n",
    "opt = tf.keras.optimizers.RMSprop(learning_rate=0.001)\n",
    "base_rnn.compile_model(optimizer=opt, loss='sparse_categorical_crossentropy', metrics=['accuracy'])\n",
    "base_rnn.fit(dm.tf_train_set.batch(64), epochs=20, validation_data=dm.tf_valid_set.batch(64))"
   ]
  },
  {
   "cell_type": "markdown",
   "metadata": {},
   "source": [
    "#### <span style=\"color:red\">**Question 3.1.3**</span> \n",
    "**Run with GRU ('gru') cell with $embed\\_size= 128, state\\_sizes= [64, 128], data\\_manager= dm$.**\n",
    "\n",
    "<div style=\"text-align: right\"><span style=\"color:red\">[1 mark]</span></div>"
   ]
  },
  {
   "cell_type": "code",
   "execution_count": 106,
   "metadata": {},
   "outputs": [
    {
     "name": "stdout",
     "output_type": "stream",
     "text": [
      "Epoch 1/20\n",
      "25/25 [==============================] - 12s 252ms/step - loss: 1.6751 - accuracy: 0.2581 - val_loss: 1.5880 - val_accuracy: 0.3475\n",
      "Epoch 2/20\n",
      "25/25 [==============================] - 4s 157ms/step - loss: 1.2328 - accuracy: 0.4837 - val_loss: 0.8684 - val_accuracy: 0.6600\n",
      "Epoch 3/20\n",
      "25/25 [==============================] - 4s 155ms/step - loss: 0.5115 - accuracy: 0.8338 - val_loss: 0.2681 - val_accuracy: 0.9325\n",
      "Epoch 4/20\n",
      "25/25 [==============================] - 4s 162ms/step - loss: 0.1803 - accuracy: 0.9500 - val_loss: 0.1866 - val_accuracy: 0.9350\n",
      "Epoch 5/20\n",
      "25/25 [==============================] - 4s 170ms/step - loss: 0.0779 - accuracy: 0.9794 - val_loss: 0.1231 - val_accuracy: 0.9550\n",
      "Epoch 6/20\n",
      "25/25 [==============================] - 4s 166ms/step - loss: 0.0325 - accuracy: 0.9919 - val_loss: 0.1131 - val_accuracy: 0.9525\n",
      "Epoch 7/20\n",
      "25/25 [==============================] - 4s 159ms/step - loss: 0.0260 - accuracy: 0.9931 - val_loss: 0.1521 - val_accuracy: 0.9525\n",
      "Epoch 8/20\n",
      "25/25 [==============================] - 4s 181ms/step - loss: 0.0079 - accuracy: 0.9994 - val_loss: 0.1256 - val_accuracy: 0.9600\n",
      "Epoch 9/20\n",
      "25/25 [==============================] - 5s 193ms/step - loss: 0.0164 - accuracy: 0.9969 - val_loss: 0.1281 - val_accuracy: 0.9575\n",
      "Epoch 10/20\n",
      "25/25 [==============================] - 4s 180ms/step - loss: 0.0030 - accuracy: 1.0000 - val_loss: 0.1463 - val_accuracy: 0.9575\n",
      "Epoch 11/20\n",
      "25/25 [==============================] - 4s 179ms/step - loss: 0.0019 - accuracy: 1.0000 - val_loss: 0.1710 - val_accuracy: 0.9575\n",
      "Epoch 12/20\n",
      "25/25 [==============================] - 5s 201ms/step - loss: 0.0011 - accuracy: 1.0000 - val_loss: 0.1824 - val_accuracy: 0.9575\n",
      "Epoch 13/20\n",
      "25/25 [==============================] - 5s 190ms/step - loss: 7.5863e-04 - accuracy: 1.0000 - val_loss: 0.1931 - val_accuracy: 0.9575\n",
      "Epoch 14/20\n",
      "25/25 [==============================] - 5s 183ms/step - loss: 5.3067e-04 - accuracy: 1.0000 - val_loss: 0.1971 - val_accuracy: 0.9575\n",
      "Epoch 15/20\n",
      "25/25 [==============================] - 5s 200ms/step - loss: 4.2062e-04 - accuracy: 1.0000 - val_loss: 0.2016 - val_accuracy: 0.9550\n",
      "Epoch 16/20\n",
      "25/25 [==============================] - 5s 191ms/step - loss: 3.3969e-04 - accuracy: 1.0000 - val_loss: 0.2042 - val_accuracy: 0.9550\n",
      "Epoch 17/20\n",
      "25/25 [==============================] - 5s 181ms/step - loss: 2.8480e-04 - accuracy: 1.0000 - val_loss: 0.2057 - val_accuracy: 0.9525\n",
      "Epoch 18/20\n",
      "25/25 [==============================] - 5s 182ms/step - loss: 2.4566e-04 - accuracy: 1.0000 - val_loss: 0.2073 - val_accuracy: 0.9525\n",
      "Epoch 19/20\n",
      "25/25 [==============================] - 5s 190ms/step - loss: 2.1624e-04 - accuracy: 1.0000 - val_loss: 0.2090 - val_accuracy: 0.9525\n",
      "Epoch 20/20\n",
      "25/25 [==============================] - 5s 207ms/step - loss: 1.9330e-04 - accuracy: 1.0000 - val_loss: 0.2108 - val_accuracy: 0.9500\n"
     ]
    },
    {
     "data": {
      "text/plain": [
       "<keras.src.callbacks.History at 0x200242c7400>"
      ]
     },
     "execution_count": 106,
     "metadata": {},
     "output_type": "execute_result"
    }
   ],
   "source": [
    "base_rnn = BaseRNN(\"gru\", 128, [64, 128], dm)# Insert your code here\n",
    "base_rnn.build()\n",
    "opt = tf.keras.optimizers.RMSprop(learning_rate=0.001)\n",
    "base_rnn.compile_model(optimizer=opt, loss='sparse_categorical_crossentropy', metrics=['accuracy'])\n",
    "base_rnn.fit(dm.tf_train_set.batch(64), epochs=20, validation_data=dm.tf_valid_set.batch(64))"
   ]
  },
  {
   "cell_type": "markdown",
   "metadata": {},
   "source": [
    "#### <span style=\"color:red\">**Question 3.1.4**</span> \n",
    "**Run with LSTM ('lstm') cell with $embed\\_size= 128, state\\_sizes= [64, 128], data\\_manager= dm$.**\n",
    "\n",
    "<div style=\"text-align: right\"><span style=\"color:red\">[1 mark]</span></div>"
   ]
  },
  {
   "cell_type": "code",
   "execution_count": 107,
   "metadata": {},
   "outputs": [
    {
     "name": "stdout",
     "output_type": "stream",
     "text": [
      "Epoch 1/20\n",
      "25/25 [==============================] - 14s 276ms/step - loss: 1.6550 - accuracy: 0.2937 - val_loss: 1.3678 - val_accuracy: 0.4925\n",
      "Epoch 2/20\n",
      "25/25 [==============================] - 5s 190ms/step - loss: 0.9570 - accuracy: 0.6069 - val_loss: 0.6841 - val_accuracy: 0.6700\n",
      "Epoch 3/20\n",
      "25/25 [==============================] - 6s 241ms/step - loss: 0.5666 - accuracy: 0.7781 - val_loss: 0.3484 - val_accuracy: 0.9150\n",
      "Epoch 4/20\n",
      "25/25 [==============================] - 6s 252ms/step - loss: 0.2609 - accuracy: 0.9362 - val_loss: 0.2537 - val_accuracy: 0.9225\n",
      "Epoch 5/20\n",
      "25/25 [==============================] - 6s 223ms/step - loss: 0.1543 - accuracy: 0.9569 - val_loss: 0.1883 - val_accuracy: 0.9450\n",
      "Epoch 6/20\n",
      "25/25 [==============================] - 6s 237ms/step - loss: 0.1229 - accuracy: 0.9681 - val_loss: 0.1870 - val_accuracy: 0.9450\n",
      "Epoch 7/20\n",
      "25/25 [==============================] - 6s 233ms/step - loss: 0.0723 - accuracy: 0.9844 - val_loss: 0.3224 - val_accuracy: 0.8975\n",
      "Epoch 8/20\n",
      "25/25 [==============================] - 6s 226ms/step - loss: 0.0665 - accuracy: 0.9831 - val_loss: 0.1423 - val_accuracy: 0.9550\n",
      "Epoch 9/20\n",
      "25/25 [==============================] - 6s 240ms/step - loss: 0.0700 - accuracy: 0.9844 - val_loss: 0.1447 - val_accuracy: 0.9575\n",
      "Epoch 10/20\n",
      "25/25 [==============================] - 6s 221ms/step - loss: 0.0336 - accuracy: 0.9912 - val_loss: 0.1462 - val_accuracy: 0.9600\n",
      "Epoch 11/20\n",
      "25/25 [==============================] - 6s 231ms/step - loss: 0.0196 - accuracy: 0.9956 - val_loss: 0.1486 - val_accuracy: 0.9575\n",
      "Epoch 12/20\n",
      "25/25 [==============================] - 6s 250ms/step - loss: 0.0163 - accuracy: 0.9962 - val_loss: 0.1667 - val_accuracy: 0.9625\n",
      "Epoch 13/20\n",
      "25/25 [==============================] - 6s 224ms/step - loss: 0.0092 - accuracy: 0.9975 - val_loss: 0.1696 - val_accuracy: 0.9575\n",
      "Epoch 14/20\n",
      "25/25 [==============================] - 6s 244ms/step - loss: 0.0107 - accuracy: 0.9975 - val_loss: 0.1686 - val_accuracy: 0.9575\n",
      "Epoch 15/20\n",
      "25/25 [==============================] - 6s 240ms/step - loss: 0.0097 - accuracy: 0.9981 - val_loss: 0.1649 - val_accuracy: 0.9600\n",
      "Epoch 16/20\n",
      "25/25 [==============================] - 6s 230ms/step - loss: 0.0125 - accuracy: 0.9969 - val_loss: 0.1703 - val_accuracy: 0.9650\n",
      "Epoch 17/20\n",
      "25/25 [==============================] - 6s 250ms/step - loss: 0.0023 - accuracy: 1.0000 - val_loss: 0.1797 - val_accuracy: 0.9625\n",
      "Epoch 18/20\n",
      "25/25 [==============================] - 6s 231ms/step - loss: 0.0150 - accuracy: 0.9969 - val_loss: 0.1938 - val_accuracy: 0.9650\n",
      "Epoch 19/20\n",
      "25/25 [==============================] - 6s 250ms/step - loss: 0.0014 - accuracy: 1.0000 - val_loss: 0.1998 - val_accuracy: 0.9650\n",
      "Epoch 20/20\n",
      "25/25 [==============================] - 6s 249ms/step - loss: 0.0010 - accuracy: 1.0000 - val_loss: 0.1906 - val_accuracy: 0.9625\n"
     ]
    },
    {
     "data": {
      "text/plain": [
       "<keras.src.callbacks.History at 0x200214a73a0>"
      ]
     },
     "execution_count": 107,
     "metadata": {},
     "output_type": "execute_result"
    }
   ],
   "source": [
    "base_rnn = BaseRNN(\"lstm\", 128, [64, 128], dm)# Insert your code here\n",
    "base_rnn.build()\n",
    "opt = tf.keras.optimizers.RMSprop(learning_rate=0.001)\n",
    "base_rnn.compile_model(optimizer=opt, loss='sparse_categorical_crossentropy', metrics=['accuracy'])\n",
    "base_rnn.fit(dm.tf_train_set.batch(64), epochs=20, validation_data=dm.tf_valid_set.batch(64))"
   ]
  },
  {
   "cell_type": "markdown",
   "metadata": {},
   "source": [
    "#### <span style=\"color:red\">**Question 3.1.5**</span> \n",
    "**Write code to conduct experiments to compare the accuracies of RNNs with the three different cell types using 2 different lists of `state_sizes` (while the other hyperparameters are fixed). Specifically, for each `state_sizes = [...]`, you should report the accuracies of RNNs with simple RNN ('simple_rnn') cell, GRU ('gru') cell, and LSTM ('lstm') cell. Give your comments on the results.**\n",
    "<div style=\"text-align: right\"><span style=\"color:red\">[2 marks]</span></div>"
   ]
  },
  {
   "cell_type": "code",
   "execution_count": 111,
   "metadata": {},
   "outputs": [
    {
     "name": "stdout",
     "output_type": "stream",
     "text": [
      "Cell type = simple_rnn\n",
      "State size = [64, 128]\n",
      "Training Accuracy = 1.0\n",
      "Validation Accuracy = 0.9700000286102295\n",
      "\n",
      "\n",
      "Cell type = simple_rnn\n",
      "State size = [30, 50]\n",
      "Training Accuracy = 1.0\n",
      "Validation Accuracy = 0.9549999833106995\n",
      "\n",
      "\n",
      "Cell type = gru\n",
      "State size = [64, 128]\n",
      "Training Accuracy = 1.0\n",
      "Validation Accuracy = 0.9524999856948853\n",
      "\n",
      "\n",
      "Cell type = gru\n",
      "State size = [30, 50]\n",
      "Training Accuracy = 1.0\n",
      "Validation Accuracy = 0.9449999928474426\n",
      "\n",
      "\n",
      "Cell type = lstm\n",
      "State size = [64, 128]\n",
      "Training Accuracy = 1.0\n",
      "Validation Accuracy = 0.9674999713897705\n",
      "\n",
      "\n",
      "Cell type = lstm\n",
      "State size = [30, 50]\n",
      "Training Accuracy = 1.0\n",
      "Validation Accuracy = 0.9574999809265137\n",
      "\n",
      "\n"
     ]
    }
   ],
   "source": [
    "# Insert your code here\n",
    "cell_types_list = [\"simple_rnn\", \"gru\", \"lstm\"]\n",
    "#Using the state sizes suggested on ED\n",
    "state_sizes_list = [[64, 128], [30, 50]]\n",
    "\n",
    "for cell_types in cell_types_list:\n",
    "    for state_sizes in state_sizes_list:\n",
    "        print(\"Cell type = \" + cell_types)\n",
    "        print(\"State size = \" + str(state_sizes))\n",
    "        base_rnn = BaseRNN(cell_types , 128, state_sizes, dm)\n",
    "        base_rnn.build()\n",
    "        opt = tf.keras.optimizers.RMSprop(learning_rate=0.001)\n",
    "        base_rnn.compile_model(optimizer=opt, loss='sparse_categorical_crossentropy', metrics=['accuracy'])\n",
    "        history = base_rnn.fit(dm.tf_train_set.batch(64), epochs=20, validation_data=dm.tf_valid_set.batch(64), verbose = False)\n",
    "        print(\"Training Accuracy = \" + str(history.history[\"accuracy\"][-1]))\n",
    "        print(\"Validation Accuracy = \" + str(history.history[\"val_accuracy\"][-1]))\n",
    "        print(\"\\n\")"
   ]
  },
  {
   "cell_type": "markdown",
   "metadata": {},
   "source": [
    "All 6 models gave a perfect training accuracy of 1. For this assignment, as we are mainly using the validation data as our test set, we will be focusing more on the validation accuracy.  \n",
    "For the Simple RNNs, GRUs and LSTMs, it can be seen that the validation accuracy decreases when the state sizes decreases. This could be due to the loss of training capacity, as this means the model now has fewer parameters, which will reduce the model's capability to learn complex pattern and relationships within the data.  \n",
    "Additionally, it can be observed that the average validation accuracies for the Simple RNNs is higher than the average validation accuracies for GRUs and LSTMs. LSTMs and GRUs are better at capturing long-term dependencies, but if the sequences that we are working with is relatively small, which could be the case due to the short sentences within the training set, then the Simple RNNs could work better due to less likely chances of overfitting."
   ]
  },
  {
   "cell_type": "markdown",
   "metadata": {},
   "source": [
    "### <span style=\"color:#0b486b\">3.2. RNNs with fine-tuning embedding matrix</span> ###\n",
    "\n",
    "<div style=\"text-align: right\"><span style=\"color:red; font-weight:bold\">[Total marks for this part: 8 marks]<span></div>"
   ]
  },
  {
   "cell_type": "markdown",
   "metadata": {},
   "source": [
    "#### <span style=\"color:red\">**Question 3.2.1**</span> \n",
    "\n",
    "**In what follows, you are required to extend the class BaseRNN in Part 3.1 to achieve a class RNN in which the embedding matrix can be initialized using a pretrained Word2Vect.**\n",
    "\n",
    "**Below are the descriptions of the attributes of the class *RNN*:**\n",
    "- `run_mode (self.run_mode)` has three values (scratch, init-only, and init-fine-tune).\n",
    "  - `scratch` means training the embedding matrix from scratch.\n",
    "  - `init-only` means only initializing the embedding matrix with a pretrained Word2Vect but **not further doing** fine-tuning that matrix.\n",
    "  - `init-fine-tune` means both initializing the embedding matrix with a pretrained Word2Vect and **further doing** fine-tuning that matrix.\n",
    "- `cell_type (self.cell_type)` has three values (simple-rnn, gru, and lstm) which specify the memory cell used in the network.\n",
    "- `embed_model (self.embed_model)` specifes the pretrained Word2Vect model used.\n",
    "-  `embed_size (self.embed_size)` specifes the embedding size. Note that when run_mode is either 'init-only' or 'init-fine-tune', this embedding size is extracted from embed_model for dimension compatability.\n",
    "- `state_sizes (self.state_sizes)` indicates the list of the hidden sizes  of memory cells. For example, $state\\_sizes = [64, 128]$ means that you have two hidden layers in your network with hidden sizes of $64$ and $128$ respectively.\n",
    "\n",
    "**Complete the code of the class *RNN*.**\n",
    "\n",
    "<div style=\"text-align: right\"><span style=\"color:red\">[6 marks]</span></div>"
   ]
  },
  {
   "cell_type": "code",
   "execution_count": 122,
   "metadata": {},
   "outputs": [],
   "source": [
    "class RNN(BaseRNN):\n",
    "    def __init__(self, run_mode='scratch', embed_model='glove-wiki-gigaword-100', **kwargs):\n",
    "        super().__init__(**kwargs)\n",
    "        self.run_mode = run_mode\n",
    "        self.embed_model = embed_model\n",
    "        if self.run_mode != 'scratch':\n",
    "            self.embed_size = int(self.embed_model.split(\"-\")[-1])\n",
    "        self.word2idx = dm.word2idx\n",
    "        self.word2vect = None\n",
    "        self.embed_matrix = np.zeros(shape=[self.vocab_size, self.embed_size])\n",
    "\n",
    "    def build_embedding_matrix(self):\n",
    "        # Insert your code here\n",
    "        self.word2vect = api.load(self.embed_model)\n",
    "        try:\n",
    "            for key in self.word2idx:\n",
    "                self.embed_matrix[self.word2idx[key]] = self.word2vect.get_vector(key)\n",
    "        except:\n",
    "            pass\n",
    "            \n",
    "\n",
    "    def build(self):\n",
    "        # Insert your code here to override the 'build' method of BaseRNN\n",
    "        x = tf.keras.layers.Input(shape=[None])\n",
    "    \n",
    "        #https://stackoverflow.com/questions/53503389/how-to-set-parameters-in-keras-to-be-non-trainable helped me\n",
    "        if self.run_mode == \"scratch\":\n",
    "            h = tf.keras.layers.Embedding(input_dim = self.vocab_size, output_dim = self.embed_size, mask_zero=True, trainable=True)(x)\n",
    "        elif self.run_mode == \"init-only\":\n",
    "            self.build_embedding_matrix()\n",
    "            h = tf.keras.layers.Embedding(input_dim = self.vocab_size, output_dim = self.embed_size, mask_zero=True, trainable=False, weights = [self.embed_matrix])(x)\n",
    "        elif self.run_mode == \"init-fine-tune\":\n",
    "            self.build_embedding_matrix()\n",
    "            h = tf.keras.layers.Embedding(input_dim = self.vocab_size, output_dim = self.embed_size, mask_zero=True, trainable=True, weights = [self.embed_matrix])(x)\n",
    "        else:\n",
    "            print(\"Wrong run mode specified!\")\n",
    "            \n",
    "        num_layers = len(self.state_sizes)# Insert your code here\n",
    "        for i in range(num_layers-1):\n",
    "            h =  self.get_layer(self.cell_type, self.state_sizes[i], return_sequences = True)(h)# Insert your code here, you can insert more lines if necessary\n",
    "        #Only need the last hidden state output for the last layer\n",
    "        h = self.get_layer(self.cell_type, self.state_sizes[-1], return_sequences = False)(h)\n",
    "        h = tf.keras.layers.Dense(dm.num_classes, activation='softmax')(h)\n",
    "        self.model = tf.keras.Model(inputs=x, outputs=h)\n",
    "\n",
    "    def compile_model(self, *args, **kwargs):\n",
    "        self.model.compile(*args, **kwargs)\n",
    "\n",
    "    def fit(self, *args, **kwargs):\n",
    "        return self.model.fit(*args, **kwargs)\n",
    "\n",
    "    def evaluate(self, *args, **kwargs):\n",
    "        self.model.evaluate(*args, **kwargs)"
   ]
  },
  {
   "cell_type": "markdown",
   "metadata": {},
   "source": [
    "#### <span style=\"color:red\">**Question 3.2.2**</span> \n",
    "\n",
    "**Write code to conduct experiments to compare three running modes for the embedding matrix. Note that you should stick with fixed values for other attributes and only vary *run_mode*. Give your comments on the results.**\n",
    "\n",
    "<div style=\"text-align: right\"><span style=\"color:red\">[2 marks]</span></div>"
   ]
  },
  {
   "cell_type": "code",
   "execution_count": 123,
   "metadata": {},
   "outputs": [
    {
     "name": "stdout",
     "output_type": "stream",
     "text": [
      "Running mode = scratch\n",
      "Training Accuracy = 1.0\n",
      "Validation Accuracy = 0.9674999713897705\n",
      "\n",
      "\n",
      "Running mode = init-only\n",
      "Training Accuracy = 0.9231250286102295\n",
      "Validation Accuracy = 0.8100000023841858\n",
      "\n",
      "\n",
      "Running mode = init-fine-tune\n",
      "Training Accuracy = 0.9962499737739563\n",
      "Validation Accuracy = 0.949999988079071\n",
      "\n",
      "\n"
     ]
    }
   ],
   "source": [
    "# Insert your code here\n",
    "running_modes = [\"scratch\", \"init-only\", \"init-fine-tune\"]\n",
    "\n",
    "for running_mode in running_modes:\n",
    "    print(\"Running mode = \" + running_mode)\n",
    "    rnn = RNN(run_mode = running_mode, cell_type = \"simple_rnn\", data_manager = dm)\n",
    "    rnn.build()\n",
    "    opt = tf.keras.optimizers.RMSprop(learning_rate=0.001)\n",
    "    rnn.compile_model(optimizer=opt, loss='sparse_categorical_crossentropy', metrics=['accuracy'])\n",
    "    history = rnn.fit(dm.tf_train_set.batch(64), epochs=20, validation_data=dm.tf_valid_set.batch(64), verbose = False)\n",
    "    print(\"Training Accuracy = \" + str(history.history[\"accuracy\"][-1]))\n",
    "    print(\"Validation Accuracy = \" + str(history.history[\"val_accuracy\"][-1]))\n",
    "    print(\"\\n\")"
   ]
  },
  {
   "cell_type": "markdown",
   "metadata": {},
   "source": [
    "All 3 modes gave a perfect or almost perfect training accuracy. For this assignment, as we are mainly using the validation data as our test set, we will be focusing more on the validation accuracy.  \n",
    "As we can see, when the running mode is in \"scratch\" or \"init-fine-tune\", the validation accuracy is higher compared to using \"init-only\" as the running mode. This could be due to the fact that creating an embedding matrix from scratch or fine-tuning an embedding matrix from a pretrained Word2Vect allows the model to focus and specialize on the specific characteristics of our dataset, therefore being able to capture patterns and relationships within the data better compared to just using an embedding matrix from a pretrained Word2Vect and not fine-tuning it."
   ]
  },
  {
   "cell_type": "markdown",
   "metadata": {},
   "source": [
    "### <span style=\"color:#0b486b\">3.3. RNNs with Attention for Text and Sequence Classification</span> ###\n",
    "\n",
    "**In what follows, you are required to implement a RNN with the attention mechanism for text and sequence classification. This attention mechanism is applied at the last hidden layer of our RNN. Specifically, let $\\textbf{h}_1^L, \\textbf{h}_2^L,...,\\textbf{h}_{T-1}^L, \\textbf{h}_T^L$ be the hidden states at the last hidden layer $L$ where $T$ is the sequence length. We compute the context vector $\\textbf{c}$ as $\\textbf{c}=\\sum_{i=1}^{T}\\textbf{a}_{i}\\textbf{h}_{i}^L$ where $\\textbf{a}_1,...,\\textbf{a}_T$ are the alignment weights (i.e., $\\textbf{a}_i\\geq 0$ and $\\sum_{i=1}^{T}\\textbf{a}_{i}=1$).**\n",
    "\n",
    "**The alignment weights are computed as follows:**\n",
    "- $\\textbf{a}=[\\textbf{a}_{i}]_{i=1}^{T}=\\text{softmax}(\\textbf{s})$ where $\\textbf{s}= [\\textbf{s}_{i}]_{i=1}^{T}$ consists of the alignment scores.\n",
    "- The alignment scores are computed as $\\textbf{s}=\\text{tanh}(\\textbf{h}^LU)V$ where $\\textbf{h}^L=\\left[\\begin{array}{c}\n",
    "\\textbf{h}_{1}^L\\\\\n",
    "\\textbf{h}_{2}^L\\\\\n",
    "...\\\\\n",
    "\\textbf{h}_{T-1}^L\\\\\n",
    "\\textbf{h}_{T}^L\n",
    "\\end{array}\\right]\\in\\mathbb{R}^{T\\times state\\_size_{L}}$, $U\\in\\mathbb{R}^{state\\_size_{L}\\times output\\_length}$, $V\\in\\mathbb{R}^{output\\_length\\times1}$, and $output\\_length$ is a hyperparameter. Note that if we consider a mini-batch, the shape of $\\textbf{h}^L$ is $(batch\\_size, T, state\\_size_L)$ where $state\\_size_L$ is the hidden size of the last hidden layer. The figure on the right below illustrates the process of calculating a score $\\textbf{s}_i$ for an individual hidden state $\\textbf{h}_i^L$. Weight matrices $U$ and $V$ are shared across the hidden states $\\textbf{h}_1^L,\\textbf{h}_2^L,\\dots,\\textbf{h}_T^L$.\n",
    "\n",
    "**After having the context vector $\\textbf{c}$, we concatenate with the last hidden state $\\textbf{h}_T^L$. On top of this concatenation, we conduct the output layer with the softmax activation.**\n",
    "\n",
    "<img src=\"./images/attentionRNN.png\" align=\"center\" width=700/>\n",
    "\n",
    "<div style=\"text-align: right\"><span style=\"color:red; font-weight:bold\">[Total marks for this part: 12 marks]<span></div>"
   ]
  },
  {
   "cell_type": "markdown",
   "metadata": {},
   "source": [
    "#### <span style=\"color:red\">**Question 3.3.1**</span>\n",
    "\n",
    "**We declare the  layer `MyAttention` as a class inherited from `tf.keras.layers.Layer` to realize our attention mechanism. You are required to provide the code for this class. Note that in the `def call(self, all_states, last_state)` method, `all_states` is the collection of all hidden states and `last_state` is the last hidden state.**\n",
    "\n",
    "<div style=\"text-align: right\"><span style=\"color:red\">[4 marks]</span></div>"
   ]
  },
  {
   "cell_type": "code",
   "execution_count": 124,
   "metadata": {},
   "outputs": [],
   "source": [
    "class MyAttention(tf.keras.layers.Layer):\n",
    "    def __init__(self, output_length=50):\n",
    "        super().__init__()\n",
    "        # Insert your code here\n",
    "        self.output_length = output_length\n",
    "        self.U = tf.keras.layers.Dense(output_length)\n",
    "        self.V = tf.keras.layers.Dense(1)\n",
    "    \n",
    "    # all_states is the collection of all hidden states and last_state is the last hidden state\n",
    "    def call(self, all_states, last_state):\n",
    "        # Insert your code here\n",
    "        #Tutorial 9a helped me with this\n",
    "        alignment_scores = self.V(tf.keras.activations.tanh(self.U(all_states)))\n",
    "        alignment_weights = tf.linalg.matrix_transpose(tf.nn.softmax(alignment_scores, axis = 1))\n",
    "        context = tf.reduce_sum(tf.linalg.matmul(alignment_weights, all_states), axis = 1)\n",
    "        return tf.concat([context, last_state], axis = 1)"
   ]
  },
  {
   "cell_type": "markdown",
   "metadata": {},
   "source": [
    "#### <span style=\"color:red\">**Question 3.3.2**</span> \n",
    "\n",
    "**You are required to extend the class `RNN` in Question `3.2.1` to achieve the class `AttentionRNN` in which the attention mechanism mentioned above is applied at the last hidden layer.**\n",
    "\n",
    "<div style=\"text-align: right\"><span style=\"color:red\">[6 marks]</span></div>"
   ]
  },
  {
   "cell_type": "code",
   "execution_count": 131,
   "metadata": {},
   "outputs": [],
   "source": [
    "class AttentionRNN(RNN):\n",
    "    def __init__(self, **kwargs):\n",
    "        super().__init__(**kwargs)\n",
    "    \n",
    "    #Added a new argument for return_state\n",
    "    @staticmethod\n",
    "    def get_layer(cell_type='gru', hidden_size=128, return_sequences=False, activation='tanh', return_state = False):\n",
    "        # Insert your code here to override the method get_layer() in BaseRNN class.\n",
    "        #https://machinelearningmastery.com/return-sequences-and-return-states-for-lstms-in-keras/ helped me\n",
    "        if cell_type == 'gru':\n",
    "            return tf.keras.layers.GRU(units = hidden_size, return_sequences = return_sequences, activation = activation, return_state = return_state)# Insert your code here\n",
    "        elif cell_type == 'lstm':\n",
    "            return tf.keras.layers.LSTM(units = hidden_size, return_sequences = return_sequences, activation = activation, return_state = return_state)# Insert your code here\n",
    "        else:\n",
    "            return tf.keras.layers.SimpleRNN(units = hidden_size, return_sequences = return_sequences, activation = activation, return_state = return_state)# Insert your code here\n",
    "    \n",
    "    def build(self):\n",
    "        # Insert your code here to override the method build() in BaseRNN class.\n",
    "        x = tf.keras.layers.Input(shape=[None])\n",
    "    \n",
    "        #https://stackoverflow.com/questions/53503389/how-to-set-parameters-in-keras-to-be-non-trainable helped me\n",
    "        if self.run_mode == \"scratch\":\n",
    "            h = tf.keras.layers.Embedding(input_dim = self.vocab_size, output_dim = self.embed_size, mask_zero=True, trainable=True)(x)\n",
    "        elif self.run_mode == \"init-only\":\n",
    "            self.build_embedding_matrix()\n",
    "            h = tf.keras.layers.Embedding(input_dim = self.vocab_size, output_dim = self.embed_size, mask_zero=True, trainable=False, weights = [self.embed_matrix])(x)\n",
    "        elif self.run_mode == \"init-fine-tune\":\n",
    "            self.build_embedding_matrix()\n",
    "            h = tf.keras.layers.Embedding(input_dim = self.vocab_size, output_dim = self.embed_size, mask_zero=True, trainable=True, weights = [self.embed_matrix])(x)\n",
    "        else:\n",
    "            print(\"Wrong run mode specified!\")\n",
    "            \n",
    "        num_layers = len(self.state_sizes)# Insert your code here\n",
    "        for i in range(num_layers-1):\n",
    "            h =  self.get_layer(self.cell_type, self.state_sizes[i], return_sequences = True)(h)# Insert your code here, you can insert more lines if necessary\n",
    "        h, l = self.get_layer(self.cell_type, self.state_sizes[-1], return_sequences = True, return_state = True)(h)\n",
    "        h = MyAttention()(h, l)\n",
    "        h = tf.keras.layers.Dense(dm.num_classes, activation='softmax')(h)\n",
    "        self.model = tf.keras.Model(inputs=x, outputs=h)\n",
    "\n",
    "    def compile_model(self, *args, **kwargs):\n",
    "        self.model.compile(*args, **kwargs)\n",
    "\n",
    "    def fit(self, *args, **kwargs):\n",
    "        return self.model.fit(*args, **kwargs)\n",
    "\n",
    "    def evaluate(self, *args, **kwargs):\n",
    "        self.model.evaluate(*args, **kwargs)\n"
   ]
  },
  {
   "cell_type": "markdown",
   "metadata": {},
   "source": [
    "#### <span style=\"color:red\">**Question 3.3.3**</span> \n",
    "\n",
    "**Choose a common setting for standard RNN and RNN with attention and conduct experiments to compare them. The setting here means `run_mode`, `cell_type` and list of `state_sizes`. Give your comments on the results.** \n",
    "\n",
    "<div style=\"text-align: right\"><span style=\"color:red\">[2 marks]</span></div>"
   ]
  },
  {
   "cell_type": "code",
   "execution_count": 133,
   "metadata": {},
   "outputs": [
    {
     "name": "stdout",
     "output_type": "stream",
     "text": [
      "Training Accuracy = 1.0\n",
      "Validation Accuracy = 0.9700000286102295\n"
     ]
    }
   ],
   "source": [
    "# Insert your code here\n",
    "attention_rnn = AttentionRNN(data_manager = dm)\n",
    "attention_rnn.build()\n",
    "opt = tf.keras.optimizers.RMSprop(learning_rate=0.001)\n",
    "attention_rnn.compile_model(optimizer=opt, loss='sparse_categorical_crossentropy', metrics=['accuracy'])\n",
    "history = attention_rnn.fit(dm.tf_train_set.batch(64), epochs=20, validation_data=dm.tf_valid_set.batch(64), verbose = False)\n",
    "print(\"Training Accuracy = \" + str(history.history[\"accuracy\"][-1]))\n",
    "print(\"Validation Accuracy = \" + str(history.history[\"val_accuracy\"][-1]))"
   ]
  },
  {
   "cell_type": "code",
   "execution_count": 134,
   "metadata": {},
   "outputs": [
    {
     "name": "stdout",
     "output_type": "stream",
     "text": [
      "Training Accuracy = 1.0\n",
      "Validation Accuracy = 0.9674999713897705\n"
     ]
    }
   ],
   "source": [
    "standard_rnn = RNN(data_manager = dm)\n",
    "standard_rnn.build()\n",
    "opt = tf.keras.optimizers.RMSprop(learning_rate=0.001)\n",
    "standard_rnn.compile_model(optimizer=opt, loss='sparse_categorical_crossentropy', metrics=['accuracy'])\n",
    "history = standard_rnn.fit(dm.tf_train_set.batch(64), epochs=20, validation_data=dm.tf_valid_set.batch(64), verbose = False)\n",
    "print(\"Training Accuracy = \" + str(history.history[\"accuracy\"][-1]))\n",
    "print(\"Validation Accuracy = \" + str(history.history[\"val_accuracy\"][-1]))"
   ]
  },
  {
   "cell_type": "markdown",
   "metadata": {},
   "source": [
    "With the default parameters, the validation accuracy for standard RNN and RNN with attention mechanism is very close to each other. While the RNN with attention mechanism has a slightly higher validation accuracy, I cannot really conclude that this is due to the attention mechanism added in this part of the assignment as the validation accuracy between the two RNNs are not large enough. Furthermore, the difference in validation accuracy between the two RNNs could be down to just pure luck."
   ]
  },
  {
   "cell_type": "markdown",
   "metadata": {},
   "source": [
    "## <span style=\"color:#0b486b\">Part 4: Transformer-based models for sequence modeling and neural embedding and the overall ranking</span>\n",
    "\n",
    "<div style=\"text-align: right\"><span style=\"color:red; font-weight:bold\">[Total marks for this part: 23 marks]<span></div>"
   ]
  },
  {
   "cell_type": "markdown",
   "metadata": {},
   "source": [
    "#### <span style=\"color:red\">**Question 4.1**</span> \n",
    "\n",
    "**Implement the multi-head attention module of the Transformer for the text classification problem. The provided code is from [this source](https://keras.io/examples/nlp/text_classification_with_transformer/). In this part, we only use the output of the Transformer encoder for the classification task. For further information on the Transformer model, refer to [this paper](https://proceedings.neurips.cc/paper_files/paper/2017/file/3f5ee243547dee91fbd053c1c4a845aa-Paper.pdf).**\n",
    "\n",
    "<div style=\"text-align: right\"><span style=\"color:red\">[11 marks]</span></div>"
   ]
  },
  {
   "cell_type": "code",
   "execution_count": 176,
   "metadata": {},
   "outputs": [],
   "source": [
    "import tensorflow as tf\n",
    "from tensorflow import keras\n",
    "from tensorflow.keras import layers"
   ]
  },
  {
   "cell_type": "code",
   "execution_count": 205,
   "metadata": {},
   "outputs": [],
   "source": [
    "class MultiHeadAttention_For_Transformer(layers.Layer):\n",
    "    # Insert your code here\n",
    "    def __init__(self, embed_dim, num_heads):\n",
    "        super(MultiHeadAttention_For_Transformer, self).__init__()\n",
    "        self.embed_dim = embed_dim\n",
    "        self.num_heads = num_heads\n",
    "        \n",
    "        self.dim_per_head = embed_dim // num_heads\n",
    "        self.query_dense = [layers.Dense(self.dim_per_head) for _ in range(num_heads)]\n",
    "        self.key_dense = [layers.Dense(self.dim_per_head) for _ in range(num_heads)]\n",
    "        self.value_dense = [layers.Dense(self.dim_per_head) for _ in range(num_heads)]\n",
    "        self.linear = layers.Dense(embed_dim)\n",
    "    \n",
    "    def scaled_dot_product_attention(self, Q, K, V):\n",
    "        dk = tf.cast(K.shape[-1], tf.float32)\n",
    "        scores = tf.matmul(Q, tf.linalg.matrix_transpose(K)) / tf.math.sqrt(dk)\n",
    "        attention_weights = tf.nn.softmax(scores)\n",
    "        return tf.matmul(attention_weights, V)\n",
    "        \n",
    "    def call(self, inputs):\n",
    "        queries = [q(inputs) for q in self.query_dense]\n",
    "        keys = [k(inputs) for k in self.key_dense]\n",
    "        values = [v(inputs) for v in self.value_dense]\n",
    "\n",
    "        attention_heads = []\n",
    "        #Accumulating the outputs for the different heads\n",
    "        for query, key, value in zip(queries, keys, values):\n",
    "            attention_heads.append(self.scaled_dot_product_attention(query, key, value))\n",
    "            \n",
    "        #Concat the output for the different heads\n",
    "        concat_attention = tf.concat(attention_heads, axis=-1)\n",
    "        #The linear layer that produces the output\n",
    "        return self.linear(concat_attention)"
   ]
  },
  {
   "cell_type": "code",
   "execution_count": 206,
   "metadata": {},
   "outputs": [],
   "source": [
    "class TransformerBlock(layers.Layer):\n",
    "    def __init__(self, embed_dim, num_heads, ff_dim, rate=0.1):\n",
    "        super().__init__()\n",
    "        self.att = MultiHeadAttention_For_Transformer(embed_dim, num_heads)# Insert your code here to call 'MultiHeadAttention' class\n",
    "        self.ffn = keras.Sequential([layers.Dense(ff_dim, activation=\"relu\"), layers.Dense(embed_dim),])\n",
    "        self.layernorm1 = layers.LayerNormalization(epsilon=1e-6)\n",
    "        self.layernorm2 = layers.LayerNormalization(epsilon=1e-6)\n",
    "        self.dropout1 = layers.Dropout(rate)\n",
    "        self.dropout2 = layers.Dropout(rate)\n",
    "\n",
    "    def call(self, inputs, training):\n",
    "        attn_output = self.att(inputs)\n",
    "        attn_output = self.dropout1(attn_output, training=training)\n",
    "        out1 = self.layernorm1(inputs + attn_output)\n",
    "        ffn_output = self.ffn(out1)\n",
    "        ffn_output = self.dropout2(ffn_output, training=training)\n",
    "        return self.layernorm2(out1 + ffn_output)"
   ]
  },
  {
   "cell_type": "code",
   "execution_count": 207,
   "metadata": {},
   "outputs": [],
   "source": [
    "class TokenAndPositionEmbedding(layers.Layer):\n",
    "    def __init__(self, maxlen, vocab_size, embed_dim):\n",
    "        super().__init__()\n",
    "        self.token_emb = layers.Embedding(input_dim=vocab_size, output_dim=embed_dim, mask_zero=True)\n",
    "        self.pos_emb = layers.Embedding(input_dim=maxlen, output_dim=embed_dim)\n",
    "\n",
    "    def call(self, x):\n",
    "        maxlen = tf.shape(x)[-1]\n",
    "        positions = tf.range(start=0, limit=maxlen, delta=1)\n",
    "        positions = self.pos_emb(positions)\n",
    "        x = self.token_emb(x)\n",
    "        return x + positions"
   ]
  },
  {
   "cell_type": "code",
   "execution_count": 208,
   "metadata": {},
   "outputs": [],
   "source": [
    "from tensorflow.keras.layers import Input, GlobalAveragePooling1D, Dropout, Dense\n",
    "from tensorflow.keras.models import Sequential\n",
    "\n",
    "vocab_size = dm.vocab_size + 1\n",
    "maxlen = dm.maxlen\n",
    "\n",
    "def create_tfm_model(embed_dim=64, num_heads=8, ff_dim=32, dropout_rate=0.1):\n",
    "    \"\"\"\n",
    "    Creates a Transformer model using the given hyperparameters.\n",
    "\n",
    "    Parameters:\n",
    "        embed_dim (int): The embedding dimension for each token.\n",
    "        num_heads (int): The number of attention heads in the multi-head attention layer.\n",
    "        ff_dim (int): The hidden layer size in the feed forward network inside the transformer block.\n",
    "        dropout_rate (float): The dropout rate for regularization.\n",
    "    Returns:\n",
    "        keras.models.Sequential: A Transformer model.\n",
    "    \"\"\"\n",
    "    tfm = Sequential()\n",
    "    tfm.add(Input(shape=(maxlen,)))\n",
    "    tfm.add(TokenAndPositionEmbedding(maxlen, vocab_size, embed_dim))\n",
    "    transformer_block = TransformerBlock(embed_dim, num_heads, ff_dim, dropout_rate)\n",
    "    tfm.add(transformer_block)\n",
    "    tfm.add(GlobalAveragePooling1D())\n",
    "    tfm.add(Dropout(dropout_rate))\n",
    "    tfm.add(Dense(units=dm.num_classes, activation='softmax'))\n",
    "    tfm.compile(optimizer=\"adam\", loss=\"sparse_categorical_crossentropy\", metrics=[\"accuracy\"])\n",
    "    return tfm"
   ]
  },
  {
   "cell_type": "code",
   "execution_count": 209,
   "metadata": {},
   "outputs": [
    {
     "name": "stdout",
     "output_type": "stream",
     "text": [
      "Epoch 1/20\n",
      "25/25 [==============================] - 28s 933ms/step - loss: 1.7144 - accuracy: 0.2381 - val_loss: 1.6320 - val_accuracy: 0.4000\n",
      "Epoch 2/20\n",
      "25/25 [==============================] - 25s 1s/step - loss: 1.5792 - accuracy: 0.3262 - val_loss: 1.4790 - val_accuracy: 0.4325\n",
      "Epoch 3/20\n",
      "25/25 [==============================] - 25s 993ms/step - loss: 1.2627 - accuracy: 0.6119 - val_loss: 1.1024 - val_accuracy: 0.5425\n",
      "Epoch 4/20\n",
      "25/25 [==============================] - 22s 879ms/step - loss: 0.6840 - accuracy: 0.8281 - val_loss: 0.6005 - val_accuracy: 0.8125\n",
      "Epoch 5/20\n",
      "25/25 [==============================] - 22s 888ms/step - loss: 0.2230 - accuracy: 0.9619 - val_loss: 0.2850 - val_accuracy: 0.9225\n",
      "Epoch 6/20\n",
      "25/25 [==============================] - 21s 859ms/step - loss: 0.0717 - accuracy: 0.9862 - val_loss: 0.1735 - val_accuracy: 0.9500\n",
      "Epoch 7/20\n",
      "25/25 [==============================] - 22s 883ms/step - loss: 0.0281 - accuracy: 0.9950 - val_loss: 0.1308 - val_accuracy: 0.9550\n",
      "Epoch 8/20\n",
      "25/25 [==============================] - 22s 880ms/step - loss: 0.0116 - accuracy: 0.9987 - val_loss: 0.1141 - val_accuracy: 0.9625\n",
      "Epoch 9/20\n",
      "25/25 [==============================] - 24s 938ms/step - loss: 0.0062 - accuracy: 1.0000 - val_loss: 0.1095 - val_accuracy: 0.9650\n",
      "Epoch 10/20\n",
      "25/25 [==============================] - 24s 966ms/step - loss: 0.0051 - accuracy: 0.9994 - val_loss: 0.1040 - val_accuracy: 0.9675\n",
      "Epoch 11/20\n",
      "25/25 [==============================] - 23s 940ms/step - loss: 0.0034 - accuracy: 1.0000 - val_loss: 0.1013 - val_accuracy: 0.9675\n",
      "Epoch 12/20\n",
      "25/25 [==============================] - 25s 1s/step - loss: 0.0026 - accuracy: 1.0000 - val_loss: 0.1006 - val_accuracy: 0.9700\n",
      "Epoch 13/20\n",
      "25/25 [==============================] - 24s 954ms/step - loss: 0.0022 - accuracy: 1.0000 - val_loss: 0.0994 - val_accuracy: 0.9675\n",
      "Epoch 14/20\n",
      "25/25 [==============================] - 22s 864ms/step - loss: 0.0019 - accuracy: 1.0000 - val_loss: 0.0976 - val_accuracy: 0.9700\n",
      "Epoch 15/20\n",
      "25/25 [==============================] - 22s 860ms/step - loss: 0.0017 - accuracy: 1.0000 - val_loss: 0.0969 - val_accuracy: 0.9675\n",
      "Epoch 16/20\n",
      "25/25 [==============================] - 24s 969ms/step - loss: 0.0015 - accuracy: 1.0000 - val_loss: 0.0959 - val_accuracy: 0.9725\n",
      "Epoch 17/20\n",
      "25/25 [==============================] - 22s 885ms/step - loss: 0.0013 - accuracy: 1.0000 - val_loss: 0.0960 - val_accuracy: 0.9725\n",
      "Epoch 18/20\n",
      "25/25 [==============================] - 21s 863ms/step - loss: 0.0012 - accuracy: 1.0000 - val_loss: 0.0949 - val_accuracy: 0.9700\n",
      "Epoch 19/20\n",
      "25/25 [==============================] - 25s 990ms/step - loss: 0.0010 - accuracy: 1.0000 - val_loss: 0.0948 - val_accuracy: 0.9725\n",
      "Epoch 20/20\n",
      "25/25 [==============================] - 23s 924ms/step - loss: 0.0010 - accuracy: 1.0000 - val_loss: 0.0936 - val_accuracy: 0.9725\n"
     ]
    },
    {
     "data": {
      "text/plain": [
       "<keras.src.callbacks.History at 0x200ae523fa0>"
      ]
     },
     "execution_count": 209,
     "metadata": {},
     "output_type": "execute_result"
    }
   ],
   "source": [
    "model = create_tfm_model()\n",
    "model.fit(dm.tf_train_set.batch(64), epochs=20, validation_data=dm.tf_valid_set.batch(64))"
   ]
  },
  {
   "cell_type": "markdown",
   "metadata": {},
   "source": [
    "#### <span style=\"color:red\">**Question 4.2**</span> \n",
    "**Write code to conduct experiments to evaluate the impact of hyperparameters `embed_dim`, `num_heads`, `ff_dim`, and `dropout_rate` of the Transformer model on the accuracy. Report (i) your findings from the experiments, (ii) the accuracy of your best Transformer model (i.e., the one with the highest accuracy on the validation set), and (iii) the values of the mentioned hyperparameters of that best model.  \n",
    "Note that the necessary condition to get the full mark for this question is that the accuracy of your best Transformer model should be at least 90%.** \n",
    "<div style=\"text-align: right\"><span style=\"color:red\">[3 marks]</span></div>"
   ]
  },
  {
   "cell_type": "code",
   "execution_count": 210,
   "metadata": {},
   "outputs": [
    {
     "name": "stdout",
     "output_type": "stream",
     "text": [
      "Every parameter set to default, except embed_dim is set to 128\n",
      "Training Accuracy = 1.0\n",
      "Validation Accuracy = 0.9800000190734863\n"
     ]
    }
   ],
   "source": [
    "# Insert your code here\n",
    "print(\"Every parameter set to default, except embed_dim is set to 128\")\n",
    "embed_dim_model = create_tfm_model(embed_dim=128)\n",
    "history = embed_dim_model.fit(dm.tf_train_set.batch(64), epochs=20, validation_data=dm.tf_valid_set.batch(64), verbose = False)\n",
    "print(\"Training Accuracy = \" + str(history.history[\"accuracy\"][-1]))\n",
    "print(\"Validation Accuracy = \" + str(history.history[\"val_accuracy\"][-1]))"
   ]
  },
  {
   "cell_type": "code",
   "execution_count": 212,
   "metadata": {},
   "outputs": [
    {
     "name": "stdout",
     "output_type": "stream",
     "text": [
      "Every parameter set to default, except num_heads is set to 16\n",
      "Training Accuracy = 1.0\n",
      "Validation Accuracy = 0.9624999761581421\n"
     ]
    }
   ],
   "source": [
    "print(\"Every parameter set to default, except num_heads is set to 16\")\n",
    "num_heads_model = create_tfm_model(num_heads = 16)\n",
    "history = num_heads_model.fit(dm.tf_train_set.batch(64), epochs=20, validation_data=dm.tf_valid_set.batch(64), verbose = False)\n",
    "print(\"Training Accuracy = \" + str(history.history[\"accuracy\"][-1]))\n",
    "print(\"Validation Accuracy = \" + str(history.history[\"val_accuracy\"][-1]))"
   ]
  },
  {
   "cell_type": "code",
   "execution_count": 213,
   "metadata": {},
   "outputs": [
    {
     "name": "stdout",
     "output_type": "stream",
     "text": [
      "Every parameter set to default, except ff_dim is set to 64\n",
      "Training Accuracy = 1.0\n",
      "Validation Accuracy = 0.9599999785423279\n"
     ]
    }
   ],
   "source": [
    "print(\"Every parameter set to default, except ff_dim is set to 64\")\n",
    "ff_dim_model = create_tfm_model(ff_dim = 64)\n",
    "history = ff_dim_model.fit(dm.tf_train_set.batch(64), epochs=20, validation_data=dm.tf_valid_set.batch(64), verbose = False)\n",
    "print(\"Training Accuracy = \" + str(history.history[\"accuracy\"][-1]))\n",
    "print(\"Validation Accuracy = \" + str(history.history[\"val_accuracy\"][-1]))"
   ]
  },
  {
   "cell_type": "code",
   "execution_count": 214,
   "metadata": {},
   "outputs": [
    {
     "name": "stdout",
     "output_type": "stream",
     "text": [
      "Every parameter set to default, except dropout_rate is set to 0.2\n",
      "Training Accuracy = 1.0\n",
      "Validation Accuracy = 0.9624999761581421\n"
     ]
    }
   ],
   "source": [
    "print(\"Every parameter set to default, except dropout_rate is set to 0.2\")\n",
    "dropout_rate_model = create_tfm_model(dropout_rate = 0.2)\n",
    "history = dropout_rate_model.fit(dm.tf_train_set.batch(64), epochs=20, validation_data=dm.tf_valid_set.batch(64), verbose = False)\n",
    "print(\"Training Accuracy = \" + str(history.history[\"accuracy\"][-1]))\n",
    "print(\"Validation Accuracy = \" + str(history.history[\"val_accuracy\"][-1]))"
   ]
  },
  {
   "cell_type": "code",
   "execution_count": 211,
   "metadata": {
    "scrolled": false
   },
   "outputs": [
    {
     "name": "stdout",
     "output_type": "stream",
     "text": [
      "INFO:tensorflow:Assets written to: best_model/assets\n"
     ]
    },
    {
     "name": "stderr",
     "output_type": "stream",
     "text": [
      "INFO:tensorflow:Assets written to: best_model/assets\n"
     ]
    }
   ],
   "source": [
    "embed_dim_model.save(\"best_model/\")"
   ]
  },
  {
   "cell_type": "markdown",
   "metadata": {},
   "source": [
    "\\# Give your answer here. \n",
    "\n",
    "(i) Your findings from the experiments (maximum 200 words)  \n",
    "I have tested 4 models, all with different set of hyperparameters.  \n",
    "  \n",
    "For the first model, the hyperparameter values are set to default, except the embed_dim is increased to 128. This increased the accuracy compared to the baseline model trained on default hyperparameters in question 4.1.  \n",
    "  \n",
    "For the second model, the hyperparameter values are set to default, except the num_heads is increased to 16. This decreased the accuracy compared to the baseline model trained on default hyperparameters in question 4.1.  \n",
    "  \n",
    "For the third model, the hyperparameter values are set to default, except the ff_dim is increased to 64. This decreased the accuracy compared to the baseline model trained on default hyperparameters in question 4.1.  \n",
    "  \n",
    "For the fourth model, the hyperparameter values are set to default, except the dropout_rate is increased to 0.2. This decreased the accuracy compared to the baseline model trained on default hyperparameters in question 4.1.\n",
    "\n",
    "\n",
    "(ii) The accuracy of your best Transformer model on the validation set  \n",
    "The accuracy of my best Transformer model on the validation set is 0.9800000190734863\n",
    "\n",
    "(iii) The values of the mentioned hyperparameters of your best Transformer model  \n",
    "embed_dim = 128, num_heads = 8, ff_dim = 32, dropout_rate = 0.1"
   ]
  },
  {
   "cell_type": "markdown",
   "metadata": {},
   "source": [
    "#### <span style=\"color:red\">**Question 4.3**</span> \n",
    "**For any models defined in the previous questions (of all parts), you are free to fine-tune hyperparameters, e.g., `optimizer`, `learning_rate`, `state_sizes`, such that you get a best model, i.e., the one with the highest accuracy on the validation set. You will need to report (i) what is your best model,  (ii) its accuracy on the validation set, and (iii) the values of its hyperparameters. Note that you must report your best model's accuracy with rounding to 4 decimal places, i.e., 0.xxxx. You will also need to upload your best model (or provide us with the link to download your best model). The assessment will be based on your best model's accuracy, with up to 9 marks available, specifically:**\n",
    "* The best accuracy $\\ge$ 0.98: 9 marks\n",
    "* 0.98 $>$ The best accuracy $\\ge$ 0.92: 6 marks\n",
    "* 0.92 $>$ The best accuracy $\\ge$ 0.85: 3 marks\n",
    "* The best accuracy $<$ 0.85: 0 mark\n",
    "<div style=\"text-align: right\"><span style=\"color:red\">[9 marks]</span></div>"
   ]
  },
  {
   "cell_type": "markdown",
   "metadata": {},
   "source": [
    "(i) What is your best model?  \n",
    "My best model is the Transformer with MultiHeadAttention, obtained from Question 4.2 \n",
    "\n",
    "(ii) The accuracy of your best model on the validation set  \n",
    "0.9800(4 d.p.)\n",
    "\n",
    "(iii) The values of the hyperparameters of your best model  \n",
    "embed_dim = 128, num_heads = 8, ff_dim = 32, dropout_rate = 0.1\n",
    "\n",
    "(iv) The link to download your best model  \n",
    "Submission on Moodle within the ZIP file itself, the model is in the \"best_model\" folder.  \n",
    "However, the model is also uploaded on Google Drive, and the link is https://drive.google.com/drive/folders/1wYLc8i1pQRbebU8WNF1QxU-K33TWC4VP?usp=sharing"
   ]
  },
  {
   "cell_type": "markdown",
   "metadata": {},
   "source": [
    "--- \n",
    "<div style=\"text-align: center\"> <span style=\"color:green\">GOOD LUCK WITH YOUR ASSIGNMENT 2!</span> </div>\n",
    "<div style=\"text-align: center\"> <span style=\"color:black\">END OF ASSIGNMENT</span> </div>"
   ]
  }
 ],
 "metadata": {
  "kernelspec": {
   "display_name": "Python 3 (ipykernel)",
   "language": "python",
   "name": "python3"
  },
  "language_info": {
   "codemirror_mode": {
    "name": "ipython",
    "version": 3
   },
   "file_extension": ".py",
   "mimetype": "text/x-python",
   "name": "python",
   "nbconvert_exporter": "python",
   "pygments_lexer": "ipython3",
   "version": "3.10.12"
  }
 },
 "nbformat": 4,
 "nbformat_minor": 4
}
